{
  "nbformat": 4,
  "nbformat_minor": 0,
  "metadata": {
    "colab": {
      "provenance": [],
      "authorship_tag": "ABX9TyNebBVeq6BOTueQ521BIY4l",
      "include_colab_link": true
    },
    "kernelspec": {
      "name": "python3",
      "display_name": "Python 3"
    },
    "language_info": {
      "name": "python"
    }
  },
  "cells": [
    {
      "cell_type": "markdown",
      "metadata": {
        "id": "view-in-github",
        "colab_type": "text"
      },
      "source": [
        "<a href=\"https://colab.research.google.com/github/srijitamaths/FIREBASE/blob/main/firebase_da.ipynb\" target=\"_parent\"><img src=\"https://colab.research.google.com/assets/colab-badge.svg\" alt=\"Open In Colab\"/></a>"
      ]
    },
    {
      "cell_type": "code",
      "execution_count": null,
      "metadata": {
        "colab": {
          "base_uri": "https://localhost:8080/"
        },
        "id": "dcEv2lJ6-YX4",
        "outputId": "00ca28be-f6f7-4d0c-bf03-96b60be9712e"
      },
      "outputs": [
        {
          "output_type": "stream",
          "name": "stdout",
          "text": [
            "Looking in indexes: https://pypi.org/simple, https://us-python.pkg.dev/colab-wheels/public/simple/\n",
            "Requirement already satisfied: firebase-admin in /usr/local/lib/python3.10/dist-packages (5.3.0)\n",
            "Requirement already satisfied: cachecontrol>=0.12.6 in /usr/local/lib/python3.10/dist-packages (from firebase-admin) (0.12.11)\n",
            "Requirement already satisfied: google-api-python-client>=1.7.8 in /usr/local/lib/python3.10/dist-packages (from firebase-admin) (2.84.0)\n",
            "Requirement already satisfied: google-cloud-storage>=1.37.1 in /usr/local/lib/python3.10/dist-packages (from firebase-admin) (2.8.0)\n",
            "Requirement already satisfied: google-api-core[grpc]<3.0.0dev,>=1.22.1 in /usr/local/lib/python3.10/dist-packages (from firebase-admin) (2.11.0)\n",
            "Requirement already satisfied: google-cloud-firestore>=2.1.0 in /usr/local/lib/python3.10/dist-packages (from firebase-admin) (2.11.0)\n",
            "Requirement already satisfied: requests in /usr/local/lib/python3.10/dist-packages (from cachecontrol>=0.12.6->firebase-admin) (2.27.1)\n",
            "Requirement already satisfied: msgpack>=0.5.2 in /usr/local/lib/python3.10/dist-packages (from cachecontrol>=0.12.6->firebase-admin) (1.0.5)\n",
            "Requirement already satisfied: googleapis-common-protos<2.0dev,>=1.56.2 in /usr/local/lib/python3.10/dist-packages (from google-api-core[grpc]<3.0.0dev,>=1.22.1->firebase-admin) (1.59.0)\n",
            "Requirement already satisfied: protobuf!=3.20.0,!=3.20.1,!=4.21.0,!=4.21.1,!=4.21.2,!=4.21.3,!=4.21.4,!=4.21.5,<5.0.0dev,>=3.19.5 in /usr/local/lib/python3.10/dist-packages (from google-api-core[grpc]<3.0.0dev,>=1.22.1->firebase-admin) (3.20.3)\n",
            "Requirement already satisfied: google-auth<3.0dev,>=2.14.1 in /usr/local/lib/python3.10/dist-packages (from google-api-core[grpc]<3.0.0dev,>=1.22.1->firebase-admin) (2.17.3)\n",
            "Requirement already satisfied: grpcio<2.0dev,>=1.33.2 in /usr/local/lib/python3.10/dist-packages (from google-api-core[grpc]<3.0.0dev,>=1.22.1->firebase-admin) (1.54.0)\n",
            "Requirement already satisfied: grpcio-status<2.0dev,>=1.33.2 in /usr/local/lib/python3.10/dist-packages (from google-api-core[grpc]<3.0.0dev,>=1.22.1->firebase-admin) (1.48.2)\n",
            "Requirement already satisfied: httplib2<1dev,>=0.15.0 in /usr/local/lib/python3.10/dist-packages (from google-api-python-client>=1.7.8->firebase-admin) (0.21.0)\n",
            "Requirement already satisfied: google-auth-httplib2>=0.1.0 in /usr/local/lib/python3.10/dist-packages (from google-api-python-client>=1.7.8->firebase-admin) (0.1.0)\n",
            "Requirement already satisfied: uritemplate<5,>=3.0.1 in /usr/local/lib/python3.10/dist-packages (from google-api-python-client>=1.7.8->firebase-admin) (4.1.1)\n",
            "Requirement already satisfied: google-cloud-core<3.0.0dev,>=1.4.1 in /usr/local/lib/python3.10/dist-packages (from google-cloud-firestore>=2.1.0->firebase-admin) (2.3.2)\n",
            "Requirement already satisfied: proto-plus<2.0.0dev,>=1.22.0 in /usr/local/lib/python3.10/dist-packages (from google-cloud-firestore>=2.1.0->firebase-admin) (1.22.2)\n",
            "Requirement already satisfied: google-resumable-media>=2.3.2 in /usr/local/lib/python3.10/dist-packages (from google-cloud-storage>=1.37.1->firebase-admin) (2.5.0)\n",
            "Requirement already satisfied: cachetools<6.0,>=2.0.0 in /usr/local/lib/python3.10/dist-packages (from google-auth<3.0dev,>=2.14.1->google-api-core[grpc]<3.0.0dev,>=1.22.1->firebase-admin) (5.3.0)\n",
            "Requirement already satisfied: pyasn1-modules>=0.2.1 in /usr/local/lib/python3.10/dist-packages (from google-auth<3.0dev,>=2.14.1->google-api-core[grpc]<3.0.0dev,>=1.22.1->firebase-admin) (0.3.0)\n",
            "Requirement already satisfied: six>=1.9.0 in /usr/local/lib/python3.10/dist-packages (from google-auth<3.0dev,>=2.14.1->google-api-core[grpc]<3.0.0dev,>=1.22.1->firebase-admin) (1.16.0)\n",
            "Requirement already satisfied: rsa<5,>=3.1.4 in /usr/local/lib/python3.10/dist-packages (from google-auth<3.0dev,>=2.14.1->google-api-core[grpc]<3.0.0dev,>=1.22.1->firebase-admin) (4.9)\n",
            "Requirement already satisfied: google-crc32c<2.0dev,>=1.0 in /usr/local/lib/python3.10/dist-packages (from google-resumable-media>=2.3.2->google-cloud-storage>=1.37.1->firebase-admin) (1.5.0)\n",
            "Requirement already satisfied: pyparsing!=3.0.0,!=3.0.1,!=3.0.2,!=3.0.3,<4,>=2.4.2 in /usr/local/lib/python3.10/dist-packages (from httplib2<1dev,>=0.15.0->google-api-python-client>=1.7.8->firebase-admin) (3.0.9)\n",
            "Requirement already satisfied: urllib3<1.27,>=1.21.1 in /usr/local/lib/python3.10/dist-packages (from requests->cachecontrol>=0.12.6->firebase-admin) (1.26.15)\n",
            "Requirement already satisfied: certifi>=2017.4.17 in /usr/local/lib/python3.10/dist-packages (from requests->cachecontrol>=0.12.6->firebase-admin) (2022.12.7)\n",
            "Requirement already satisfied: charset-normalizer~=2.0.0 in /usr/local/lib/python3.10/dist-packages (from requests->cachecontrol>=0.12.6->firebase-admin) (2.0.12)\n",
            "Requirement already satisfied: idna<4,>=2.5 in /usr/local/lib/python3.10/dist-packages (from requests->cachecontrol>=0.12.6->firebase-admin) (3.4)\n",
            "Requirement already satisfied: pyasn1<0.6.0,>=0.4.6 in /usr/local/lib/python3.10/dist-packages (from pyasn1-modules>=0.2.1->google-auth<3.0dev,>=2.14.1->google-api-core[grpc]<3.0.0dev,>=1.22.1->firebase-admin) (0.5.0)\n"
          ]
        }
      ],
      "source": [
        "pip install firebase-admin\n"
      ]
    },
    {
      "cell_type": "markdown",
      "source": [
        "Read data from a Firebase Realtime Database using Python"
      ],
      "metadata": {
        "id": "OdurQv8p_rC8"
      }
    },
    {
      "cell_type": "code",
      "source": [
        "import requests\n",
        "\n",
        "# Firebase Realtime Database URL\n",
        "database_url = 'https://fir-da-22mcs0012-default-rtdb.firebaseio.com/'\n",
        "\n",
        "# Path to the data you want to read\n",
        "data_path = '/Students'\n",
        "\n",
        "# Read data from Firebase Realtime Database\n",
        "response = requests.get(f'{database_url}{data_path}.json')\n",
        "\n",
        "# Check if the request was successful (HTTP status code 200)\n",
        "if response.status_code == 200:\n",
        "    data = response.json()\n",
        "    print(data)\n",
        "else:\n",
        "    print(f'Failed to read data: {response.text}')\n"
      ],
      "metadata": {
        "colab": {
          "base_uri": "https://localhost:8080/"
        },
        "id": "C62hMqgHFo5B",
        "outputId": "b275c398-d4b5-4d1b-fb07-73314449744a"
      },
      "execution_count": null,
      "outputs": [
        {
          "output_type": "stream",
          "name": "stdout",
          "text": [
            "{'-NX9A9NFwXgyYQUSgrLH': {'s51': {'Branch': 'Biotechnology', 'Degree': 'M.Tech', 'Institute': 'IIT BHU', 'Name': 'Vaani'}}, 'Students': {'s51': {'Name': 'Riya'}}, 's1': {'Branch': 'ECE', 'Degree': 'B.Tech.', 'Institute': 'SRM', 'Name': 'Ujan'}, 's10': {'Branch': 'Staticstics', 'Degree': 'M.Stat', 'Institute': 'ISI', 'Name': 'Arya'}, 's11': {'Branch': 'Corporate Law', 'Degree': 'LLB', 'Institute': 'MSU', 'Name': 'Aishwarya'}, 's12': {'Branch': 'Drug Technology', 'Degree': 'B.Pharm', 'Institute': 'MU', 'Name': 'Shalini'}, 's13': {'Branch': 'Civil Engineering', 'Degree': 'B.Tech', 'Institute': 'MIT', 'Name': 'Siddharth'}, 's14': {'Branch': 'Finance', 'Degree': 'B.Com', 'Institute': 'JNU', 'Name': 'Nisha'}, 's15': {'Branch': 'Astrophysics', 'Degree': 'Phd', 'Institute': 'ISRO', 'Name': 'Aditya'}, 's16': {'Branch': 'Chemistry', 'Degree': 'M.Sc.', 'Institute': 'IISER', 'Name': 'Rohan'}, 's17': {'Branch': 'Intellectual Property Law', 'Degree': 'LLM', 'Institute': 'NLSIU ', 'Name': 'Divya'}, 's18': {'Branch': 'Web Development', 'Degree': 'MCA', 'Institute': 'Amity University', 'Name': 'Neha'}, 's19': {'Branch': 'Fine Arts', 'Degree': 'B.A.', 'Institute': 'JNU', 'Name': 'Aarav'}, 's2': {'Branch': 'Marketing', 'Degree': 'MBA', 'Institution': 'IIMK', 'Name': 'Dhanush'}, 's20': {'Branch': 'Fine Arts', 'Degree': 'B.A.', 'Institute': 'JNU', 'Name': 'Aarav'}, 's21': {'Branch': 'Accounting', 'Degree': 'MBA', 'Institute': 'IIM', 'Name': 'Vikram'}, 's22': {'Branch': 'Economics', 'Degree': 'B.A.', 'Institute': 'Delhi University', 'Name': 'Aryan'}, 's23': {'Branch': '', 'Degree': '', 'Institute': '', 'Name': ''}, 's24': {'Branch': 'Fashion Design', 'Degree': 'B.Des', 'Institute': 'NIFT', 'Name': 'Varun'}, 's25': {'Branch': 'Interior Design', 'Degree': 'B.Arch', 'Institute': 'SPA, Delhi', 'Name': 'Arjun'}, 's26': {'Branch': 'English ', 'Degree': 'B.A.', 'Institute': 'Presidency College, Chennai', 'Name': 'Jyoti'}, 's27': {'Branch': 'Mechanical Engineering', 'Degree': 'B.Tech.', 'Institute': 'NIT, Surathkal', 'Name': 'Rekha'}, 's28': {'Branch': '', 'Degree': '', 'Institute': '', 'Name': ''}, 's29': {'Branch': 'CSE', 'Degree': 'M.Tech.', 'Institute': 'IITKGP', 'Name': 'Ananya'}, 's3': {'Branch': 'CSE', 'Degree': 'B.Tech.', 'Institution': 'VIT', 'Name': 'Kiara'}, 's30': {'Branch': 'Finance', 'Degree': 'BBA', 'Institute': 'Xavier School of Management (XLRI), Jamshedpur', 'Name': 'Abhinav'}, 's31': {'Branch': 'IT', 'Degree': 'B.Tech', 'Institute': 'VIT', 'Name': 'Prashant'}, 's32': {'Branch': 'Pediatrics', 'Degre': 'MBBS', 'Institute': 'CMC, Vellore', 'Name': 'Zayn'}, 's33': {'Branch': 'Denistry', 'Degree': 'BDS', 'Institute': 'Manipal College of Dental Sciences', 'Name': 'Naina'}, 's34': {'Branch': 'Applied Arts', 'Degree': 'BFA', 'Institute': 'College of Art, Delhi', 'Name': 'Tanvi'}, 's35': {'Branch': 'Business Administration', 'Degree': 'MBA', 'Institute': 'Xavier School of Management (XLRI)', 'Name': 'Uday'}, 's36': {'Branch': 'Psychology', 'Degree': 'B.A.', 'Institute': 'Christ University, Bangalore', 'Name': 'Lakhsh'}, 's38': {'Branch': 'Pharmacy', 'Degree': 'B.Pharm', 'Institute': 'Manipal College of Pharmaceutical Sciences', 'Name': 'Krish'}, 's39': {'Branch': 'Political Science', 'Degree': 'B.A.', 'Institute': 'JNU', 'Name': 'Karan'}, 's4': {'Branch': 'Data Science', 'Degree': 'M.Sc.', 'Institution': 'CMI', 'Name': 'Alisha'}, 's40': {'Branch': 'Mathematics', 'Degree': 'B.Sc.', 'Institute': 'IISC, Bangalore', 'Name': 'Kavya'}, 's41': {'Branch': 'Chemistry', 'Degree': 'B.Sc.', 'Institute': 'Delhi University', 'Name': 'Vidya'}, 's42': {'Branch': 'Biotechnology', 'Degree': 'B.Tech.', 'Institute': 'IIT Madras', 'Name': 'Trisha'}, 's43': {'Branch': '', 'Degree': '', 'Institute': '', 'Name': 'Ishita'}, 's44': {'Branch': ' Environmental Science', 'Degree': 'M.Sc.', 'Institute': 'University of Delhi', 'Name': 'Virat'}, 's45': {'Branch': 'Painting', 'Degree': 'BFA', 'Institute': 'MS University, Baroda', 'Name': 'Aaradya'}, 's46': {'Branch': 'Graphic Design', 'Degree': 'M.Des', 'Institute': 'NIFT', 'Name': 'Esha'}, 's47': {'Branch': 'Mathematics', 'Degree': 'PhD', 'Institute': 'ISI Kolkata', 'Name': 'Ishaan'}, 's48': {'Branch': 'Aerospace Engineering', 'Degree': 'B.Tech', 'Institute': 'IIST', 'Name': 'Ayush'}, 's49': {'Branch': 'Sociology', 'Degree': 'B.A.', 'Institute': 'TISS Mumbai', 'Name': 'Devika'}, 's5': {'Branch': 'CSE', 'Degree': 'M.Tech.', 'Institution': 'IITKGP', 'Name': 'Sriram'}, 's50': {'Branch': 'Nanotechnology', 'Degree': 'PhD', 'Institute': 'IIT Bombay', 'Name': 'Pooja'}, 's6': {'Branch': 'Biotechnology', 'Degree': 'Int M.Sc.', 'Institution': 'IISC', 'Name': 'Nikita'}, 's7': {'Branch': 'Mechanical Engineering', 'Degree': 'M.E.', 'Institution': 'BITS', 'Name': 'Anika'}, 's8': {'Branch': 'Physics', 'Degree': 'Ph.D', 'Institution': 'TIFR', 'Name': 'Rohit'}, 's9': {'Branch': 'Medicine', 'Degree': 'MBBS', 'Institute': 'AIIMS', 'Name': 'Priya'}}\n"
          ]
        }
      ]
    },
    {
      "cell_type": "markdown",
      "source": [
        "Insert new data"
      ],
      "metadata": {
        "id": "96kDuFoKHWwS"
      }
    },
    {
      "cell_type": "code",
      "source": [
        "import firebase_admin\n",
        "from firebase_admin import credentials\n",
        "from firebase_admin import db\n",
        "\n",
        "# Initialize Firebase with your project credentials\n",
        "cred = credentials.Certificate('/content/pathtoserviceAccountKey.json')\n",
        "firebase_admin.initialize_app(cred, {\n",
        "    'databaseURL': 'https://fir-da-22mcs0012-default-rtdb.firebaseio.com/'\n",
        "},name='my-app')\n",
        "\n",
        "# Get a reference to the database\n",
        "ref = db.reference('/Students',app=firebase_admin.get_app(name='my-app'))\n",
        "\n",
        "# Create a new user object\n",
        "new_user = {'Name':'Sekhar',\n",
        "            'Degree':'M.Tech',\n",
        "            'Branch':'Robotics',\n",
        "            'Institute':'VIT'}\n",
        "\n",
        "# Insert the new user data into the database\n",
        "ref.push(new_user)\n",
        "\n"
      ],
      "metadata": {
        "colab": {
          "base_uri": "https://localhost:8080/"
        },
        "id": "cBQHXZhdHtZi",
        "outputId": "d5db8f97-0e00-45a1-e28d-8b90f399266d"
      },
      "execution_count": null,
      "outputs": [
        {
          "output_type": "execute_result",
          "data": {
            "text/plain": [
              "<firebase_admin.db.Reference at 0x7f2715212620>"
            ]
          },
          "metadata": {},
          "execution_count": 7
        }
      ]
    },
    {
      "cell_type": "code",
      "source": [
        "import requests\n",
        "\n",
        "# Firebase Realtime Database URL\n",
        "database_url = 'https://fir-da-22mcs0012-default-rtdb.firebaseio.com/'\n",
        "\n",
        "# Path to the data you want to read\n",
        "data_path = '/Students'\n",
        "\n",
        "# Read data from Firebase Realtime Database\n",
        "response = requests.get(f'{database_url}{data_path}.json')\n",
        "\n",
        "# Check if the request was successful (HTTP status code 200)\n",
        "if response.status_code == 200:\n",
        "    data = response.json()\n",
        "    print(data)\n",
        "else:\n",
        "    print(f'Failed to read data: {response.text}')\n"
      ],
      "metadata": {
        "colab": {
          "base_uri": "https://localhost:8080/"
        },
        "id": "AaTKKx1sOeHu",
        "outputId": "74e28c35-170c-4935-8633-414d08781eab"
      },
      "execution_count": null,
      "outputs": [
        {
          "output_type": "stream",
          "name": "stdout",
          "text": [
            "{'-NWa9b0v3Ck_pIIbC7c3': {'Branch': 'Robotics', 'Degree': 'M.Tech', 'Institute': 'VIT', 'Name': 'Sekhar'}, '-NWaAmcP4I9BoAScfQkV': {'s51': {'Branch': 'Biotechnology', 'Degree': 'M.Tech', 'Institute': 'IIT BHU', 'Name': 'Vaani'}}, '-NX99vC008cd4lGUAO14': {'Branch': 'Robotics', 'Degree': 'M.Tech', 'Institute': 'VIT', 'Name': 'Sekhar'}, 'Students': {'s51': {'Name': 'Riya'}}, 's1': {'Branch': 'ECE', 'Degree': 'B.Tech.', 'Institute': 'SRM', 'Name': 'Ujan'}, 's10': {'Branch': 'Staticstics', 'Degree': 'M.Stat', 'Institute': 'ISI', 'Name': 'Arya'}, 's11': {'Branch': 'Corporate Law', 'Degree': 'LLB', 'Institute': 'MSU', 'Name': 'Aishwarya'}, 's12': {'Branch': 'Drug Technology', 'Degree': 'B.Pharm', 'Institute': 'MU', 'Name': 'Shalini'}, 's13': {'Branch': 'Civil Engineering', 'Degree': 'B.Tech', 'Institute': 'MIT', 'Name': 'Siddharth'}, 's14': {'Branch': 'Finance', 'Degree': 'B.Com', 'Institute': 'JNU', 'Name': 'Nisha'}, 's15': {'Branch': 'Astrophysics', 'Degree': 'Phd', 'Institute': 'ISRO', 'Name': 'Aditya'}, 's16': {'Branch': 'Chemistry', 'Degree': 'M.Sc.', 'Institute': 'IISER', 'Name': 'Rohan'}, 's17': {'Branch': 'Intellectual Property Law', 'Degree': 'LLM', 'Institute': 'NLSIU ', 'Name': 'Divya'}, 's18': {'Branch': 'Web Development', 'Degree': 'MCA', 'Institute': 'Amity University', 'Name': 'Neha'}, 's19': {'Branch': 'Fine Arts', 'Degree': 'B.A.', 'Institute': 'JNU', 'Name': 'Aarav'}, 's2': {'Branch': 'Marketing', 'Degree': 'MBA', 'Institution': 'IIMK', 'Name': 'Dhanush'}, 's20': {'Branch': 'Fine Arts', 'Degree': 'B.A.', 'Institute': 'JNU', 'Name': 'Aarav'}, 's21': {'Branch': 'Accounting', 'Degree': 'MBA', 'Institute': 'IIM', 'Name': 'Vikram'}, 's22': {'Branch': 'Economics', 'Degree': 'B.A.', 'Institute': 'Delhi University', 'Name': 'Aryan'}, 's23': {'Branch': '', 'Degree': '', 'Institute': '', 'Name': ''}, 's24': {'Branch': 'Fashion Design', 'Degree': 'B.Des', 'Institute': 'NIFT', 'Name': 'Varun'}, 's25': {'Branch': 'Interior Design', 'Degree': 'B.Arch', 'Institute': 'SPA, Delhi', 'Name': 'Arjun'}, 's26': {'Branch': 'English ', 'Degree': 'B.A.', 'Institute': 'Presidency College, Chennai', 'Name': 'Jyoti'}, 's27': {'Branch': 'Mechanical Engineering', 'Degree': 'B.Tech.', 'Institute': 'NIT, Surathkal', 'Name': 'Rekha'}, 's28': {'Branch': '', 'Degree': '', 'Institute': '', 'Name': ''}, 's29': {'Branch': 'CSE', 'Degree': 'M.Tech.', 'Institute': 'IITKGP', 'Name': 'Ananya'}, 's3': {'Branch': 'CSE', 'Degree': 'B.Tech.', 'Institution': 'VIT', 'Name': 'Kiara'}, 's30': {'Branch': 'Finance', 'Degree': 'BBA', 'Institute': 'Xavier School of Management (XLRI), Jamshedpur', 'Name': 'Abhinav'}, 's31': {'Branch': 'IT', 'Degree': 'B.Tech', 'Institute': 'VIT', 'Name': 'Prashant'}, 's32': {'Branch': 'Pediatrics', 'Degre': 'MBBS', 'Institute': 'CMC, Vellore', 'Name': 'Zayn'}, 's33': {'Branch': 'Denistry', 'Degree': 'BDS', 'Institute': 'Manipal College of Dental Sciences', 'Name': 'Naina'}, 's34': {'Branch': 'Applied Arts', 'Degree': 'BFA', 'Institute': 'College of Art, Delhi', 'Name': 'Tanvi'}, 's35': {'Branch': 'Business Administration', 'Degree': 'MBA', 'Institute': 'Xavier School of Management (XLRI)', 'Name': 'Uday'}, 's36': {'Branch': 'Psychology', 'Degree': 'B.A.', 'Institute': 'Christ University, Bangalore', 'Name': 'Lakhsh'}, 's38': {'Branch': 'Pharmacy', 'Degree': 'B.Pharm', 'Institute': 'Manipal College of Pharmaceutical Sciences', 'Name': 'Krish'}, 's39': {'Branch': 'Political Science', 'Degree': 'B.A.', 'Institute': 'JNU', 'Name': 'Karan'}, 's4': {'Branch': 'Data Science', 'Degree': 'M.Sc.', 'Institution': 'CMI', 'Name': 'Alisha'}, 's40': {'Branch': 'Mathematics', 'Degree': 'B.Sc.', 'Institute': 'IISC, Bangalore', 'Name': 'Kavya'}, 's41': {'Branch': 'Chemistry', 'Degree': 'B.Sc.', 'Institute': 'Delhi University', 'Name': 'Vidya'}, 's42': {'Branch': 'Biotechnology', 'Degree': 'B.Tech.', 'Institute': 'IIT Madras', 'Name': 'Trisha'}, 's43': {'Branch': '', 'Degree': '', 'Institute': '', 'Name': 'Ishita'}, 's44': {'Branch': ' Environmental Science', 'Degree': 'M.Sc.', 'Institute': 'University of Delhi', 'Name': 'Virat'}, 's45': {'Branch': 'Painting', 'Degree': 'BFA', 'Institute': 'MS University, Baroda', 'Name': 'Aaradya'}, 's46': {'Branch': 'Graphic Design', 'Degree': 'M.Des', 'Institute': 'NIFT', 'Name': 'Esha'}, 's47': {'Branch': 'Mathematics', 'Degree': 'PhD', 'Institute': 'ISI Kolkata', 'Name': 'Ishaan'}, 's48': {'Branch': 'Aerospace Engineering', 'Degree': 'B.Tech', 'Institute': 'IIST', 'Name': 'Ayush'}, 's49': {'Branch': 'Sociology', 'Degree': 'B.A.', 'Institute': 'TISS Mumbai', 'Name': 'Devika'}, 's5': {'Branch': 'CSE', 'Degree': 'M.Tech.', 'Institution': 'IITKGP', 'Name': 'Sriram'}, 's50': {'Branch': 'Nanotechnology', 'Degree': 'PhD', 'Institute': 'IIT Bombay', 'Name': 'Pooja'}, 's6': {'Branch': 'Biotechnology', 'Degree': 'Int M.Sc.', 'Institution': 'IISC', 'Name': 'Nikita'}, 's7': {'Branch': 'Mechanical Engineering', 'Degree': 'M.E.', 'Institution': 'BITS', 'Name': 'Anika'}, 's8': {'Branch': 'Physics', 'Degree': 'Ph.D', 'Institution': 'TIFR', 'Name': 'Rohit'}, 's9': {'Branch': 'Medicine', 'Degree': 'MBBS', 'Institute': 'AIIMS', 'Name': 'Priya'}}\n"
          ]
        }
      ]
    },
    {
      "cell_type": "code",
      "source": [
        "#import firebase_admin\n",
        "#from firebase_admin import credentials\n",
        "#from firebase_admin import db\n",
        "\n",
        "# Initialize Firebase with your project credentials\n",
        "#cred = credentials.Certificate('/content/pathtoserviceAccountKey.json')\n",
        "#firebase_admin.initialize_app(cred, {'databaseURL': 'https://fir-da-22mcs0012-default-rtdb.firebaseio.com/},name='my-app4')\n",
        "\n",
        "# Get a reference to the database\n",
        "ref = db.reference('/Students',app=firebase_admin.get_app(name='my-app'))\n",
        "\n",
        "# Create a new user object\n",
        "new_user = {'s51':{'Name':'Vaani',\n",
        "            'Degree':'M.Tech',\n",
        "            'Branch':'Biotechnology',\n",
        "            'Institute':'IIT BHU'}}\n",
        "\n",
        "# Insert the new user data into the database\n",
        "ref.push(new_user)"
      ],
      "metadata": {
        "colab": {
          "base_uri": "https://localhost:8080/"
        },
        "id": "3TlZdc50LDhe",
        "outputId": "b04b7dfe-c3f4-4874-870e-be817cf156b8"
      },
      "execution_count": null,
      "outputs": [
        {
          "output_type": "execute_result",
          "data": {
            "text/plain": [
              "<firebase_admin.db.Reference at 0x7f2715ef67d0>"
            ]
          },
          "metadata": {},
          "execution_count": 10
        }
      ]
    },
    {
      "cell_type": "markdown",
      "source": [
        "Update Data"
      ],
      "metadata": {
        "id": "U5BHCtat85fG"
      }
    },
    {
      "cell_type": "code",
      "source": [
        "# Update data\n",
        "ref.child('Students/s51').update({\n",
        "    'Name': 'Riya'\n",
        "})"
      ],
      "metadata": {
        "id": "nrx7saPPNyfU"
      },
      "execution_count": null,
      "outputs": []
    },
    {
      "cell_type": "code",
      "source": [
        "import requests\n",
        "\n",
        "# Firebase Realtime Database URL\n",
        "database_url = 'https://fir-da-22mcs0012-default-rtdb.firebaseio.com/'\n",
        "\n",
        "# Path to the data you want to read\n",
        "data_path = '/Students'\n",
        "\n",
        "# Read data from Firebase Realtime Database\n",
        "response = requests.get(f'{database_url}{data_path}.json')\n",
        "\n",
        "# Check if the request was successful (HTTP status code 200)\n",
        "if response.status_code == 200:\n",
        "    data = response.json()\n",
        "    print(data)\n",
        "else:\n",
        "    print(f'Failed to read data: {response.text}')\n"
      ],
      "metadata": {
        "colab": {
          "base_uri": "https://localhost:8080/"
        },
        "id": "ow4fuChFOB1b",
        "outputId": "94221027-d327-4785-8b39-3a136c17844a"
      },
      "execution_count": null,
      "outputs": [
        {
          "output_type": "stream",
          "name": "stdout",
          "text": [
            "{'-NX99vC008cd4lGUAO14': {'Branch': 'Robotics', 'Degree': 'M.Tech', 'Institute': 'VIT', 'Name': 'Sekhar'}, '-NX9A9NFwXgyYQUSgrLH': {'s51': {'Branch': 'Biotechnology', 'Degree': 'M.Tech', 'Institute': 'IIT BHU', 'Name': 'Vaani'}}, 'Students': {'s51': {'Name': 'Riya'}}, 's1': {'Branch': 'ECE', 'Degree': 'B.Tech.', 'Institute': 'SRM', 'Name': 'Ujan'}, 's10': {'Branch': 'Staticstics', 'Degree': 'M.Stat', 'Institute': 'ISI', 'Name': 'Arya'}, 's11': {'Branch': 'Corporate Law', 'Degree': 'LLB', 'Institute': 'MSU', 'Name': 'Aishwarya'}, 's12': {'Branch': 'Drug Technology', 'Degree': 'B.Pharm', 'Institute': 'MU', 'Name': 'Shalini'}, 's13': {'Branch': 'Civil Engineering', 'Degree': 'B.Tech', 'Institute': 'MIT', 'Name': 'Siddharth'}, 's14': {'Branch': 'Finance', 'Degree': 'B.Com', 'Institute': 'JNU', 'Name': 'Nisha'}, 's15': {'Branch': 'Astrophysics', 'Degree': 'Phd', 'Institute': 'ISRO', 'Name': 'Aditya'}, 's16': {'Branch': 'Chemistry', 'Degree': 'M.Sc.', 'Institute': 'IISER', 'Name': 'Rohan'}, 's17': {'Branch': 'Intellectual Property Law', 'Degree': 'LLM', 'Institute': 'NLSIU ', 'Name': 'Divya'}, 's18': {'Branch': 'Web Development', 'Degree': 'MCA', 'Institute': 'Amity University', 'Name': 'Neha'}, 's19': {'Branch': 'Fine Arts', 'Degree': 'B.A.', 'Institute': 'JNU', 'Name': 'Aarav'}, 's2': {'Branch': 'Marketing', 'Degree': 'MBA', 'Institution': 'IIMK', 'Name': 'Dhanush'}, 's20': {'Branch': 'Fine Arts', 'Degree': 'B.A.', 'Institute': 'JNU', 'Name': 'Aarav'}, 's21': {'Branch': 'Accounting', 'Degree': 'MBA', 'Institute': 'IIM', 'Name': 'Vikram'}, 's22': {'Branch': 'Economics', 'Degree': 'B.A.', 'Institute': 'Delhi University', 'Name': 'Aryan'}, 's23': {'Branch': '', 'Degree': '', 'Institute': '', 'Name': ''}, 's24': {'Branch': 'Fashion Design', 'Degree': 'B.Des', 'Institute': 'NIFT', 'Name': 'Varun'}, 's25': {'Branch': 'Interior Design', 'Degree': 'B.Arch', 'Institute': 'SPA, Delhi', 'Name': 'Arjun'}, 's26': {'Branch': 'English ', 'Degree': 'B.A.', 'Institute': 'Presidency College, Chennai', 'Name': 'Jyoti'}, 's27': {'Branch': 'Mechanical Engineering', 'Degree': 'B.Tech.', 'Institute': 'NIT, Surathkal', 'Name': 'Rekha'}, 's28': {'Branch': '', 'Degree': '', 'Institute': '', 'Name': ''}, 's29': {'Branch': 'CSE', 'Degree': 'M.Tech.', 'Institute': 'IITKGP', 'Name': 'Ananya'}, 's3': {'Branch': 'CSE', 'Degree': 'B.Tech.', 'Institution': 'VIT', 'Name': 'Kiara'}, 's30': {'Branch': 'Finance', 'Degree': 'BBA', 'Institute': 'Xavier School of Management (XLRI), Jamshedpur', 'Name': 'Abhinav'}, 's31': {'Branch': 'IT', 'Degree': 'B.Tech', 'Institute': 'VIT', 'Name': 'Prashant'}, 's32': {'Branch': 'Pediatrics', 'Degre': 'MBBS', 'Institute': 'CMC, Vellore', 'Name': 'Zayn'}, 's33': {'Branch': 'Denistry', 'Degree': 'BDS', 'Institute': 'Manipal College of Dental Sciences', 'Name': 'Naina'}, 's34': {'Branch': 'Applied Arts', 'Degree': 'BFA', 'Institute': 'College of Art, Delhi', 'Name': 'Tanvi'}, 's35': {'Branch': 'Business Administration', 'Degree': 'MBA', 'Institute': 'Xavier School of Management (XLRI)', 'Name': 'Uday'}, 's36': {'Branch': 'Psychology', 'Degree': 'B.A.', 'Institute': 'Christ University, Bangalore', 'Name': 'Lakhsh'}, 's38': {'Branch': 'Pharmacy', 'Degree': 'B.Pharm', 'Institute': 'Manipal College of Pharmaceutical Sciences', 'Name': 'Krish'}, 's39': {'Branch': 'Political Science', 'Degree': 'B.A.', 'Institute': 'JNU', 'Name': 'Karan'}, 's4': {'Branch': 'Data Science', 'Degree': 'M.Sc.', 'Institution': 'CMI', 'Name': 'Alisha'}, 's40': {'Branch': 'Mathematics', 'Degree': 'B.Sc.', 'Institute': 'IISC, Bangalore', 'Name': 'Kavya'}, 's41': {'Branch': 'Chemistry', 'Degree': 'B.Sc.', 'Institute': 'Delhi University', 'Name': 'Vidya'}, 's42': {'Branch': 'Biotechnology', 'Degree': 'B.Tech.', 'Institute': 'IIT Madras', 'Name': 'Trisha'}, 's43': {'Branch': '', 'Degree': '', 'Institute': '', 'Name': 'Ishita'}, 's44': {'Branch': ' Environmental Science', 'Degree': 'M.Sc.', 'Institute': 'University of Delhi', 'Name': 'Virat'}, 's45': {'Branch': 'Painting', 'Degree': 'BFA', 'Institute': 'MS University, Baroda', 'Name': 'Aaradya'}, 's46': {'Branch': 'Graphic Design', 'Degree': 'M.Des', 'Institute': 'NIFT', 'Name': 'Esha'}, 's47': {'Branch': 'Mathematics', 'Degree': 'PhD', 'Institute': 'ISI Kolkata', 'Name': 'Ishaan'}, 's48': {'Branch': 'Aerospace Engineering', 'Degree': 'B.Tech', 'Institute': 'IIST', 'Name': 'Ayush'}, 's49': {'Branch': 'Sociology', 'Degree': 'B.A.', 'Institute': 'TISS Mumbai', 'Name': 'Devika'}, 's5': {'Branch': 'CSE', 'Degree': 'M.Tech.', 'Institution': 'IITKGP', 'Name': 'Sriram'}, 's50': {'Branch': 'Nanotechnology', 'Degree': 'PhD', 'Institute': 'IIT Bombay', 'Name': 'Pooja'}, 's6': {'Branch': 'Biotechnology', 'Degree': 'Int M.Sc.', 'Institution': 'IISC', 'Name': 'Nikita'}, 's7': {'Branch': 'Mechanical Engineering', 'Degree': 'M.E.', 'Institution': 'BITS', 'Name': 'Anika'}, 's8': {'Branch': 'Physics', 'Degree': 'Ph.D', 'Institution': 'TIFR', 'Name': 'Rohit'}, 's9': {'Branch': 'Medicine', 'Degree': 'MBBS', 'Institute': 'AIIMS', 'Name': 'Priya'}}\n"
          ]
        }
      ]
    },
    {
      "cell_type": "markdown",
      "source": [
        "Deletion of Data-NX99vC008cd4lGUAO14\n",
        "\n",
        "\n",
        "\n"
      ],
      "metadata": {
        "id": "zvjF0Og2MRVP"
      }
    },
    {
      "cell_type": "code",
      "source": [
        "#deletion of -NX99vC008cd4lGUAO14\n",
        "import firebase_admin\n",
        "from firebase_admin import credentials\n",
        "from firebase_admin import db\n",
        "\n",
        "# Initialize Firebase with your project credentials\n",
        "cred = credentials.Certificate('/content/pathtoserviceAccountKey.json')\n",
        "firebase_admin.initialize_app(cred, {\n",
        "    'databaseURL': 'https://fir-da-22mcs0012-default-rtdb.firebaseio.com/'\n",
        "},name='my-app1')\n",
        "\n",
        "# Get a reference to the database\n",
        "ref = db.reference('/Students',app=firebase_admin.get_app(name='my-app'))\n",
        "\n",
        "# Delete data at a specific path\n",
        "try:\n",
        "    ref.child('-NX99vC008cd4lGUAO14').delete()\n",
        "    print(\"Deletion successful\")\n",
        "except Exception as e:\n",
        "    print(\"Error deleting data:\", e)"
      ],
      "metadata": {
        "colab": {
          "base_uri": "https://localhost:8080/"
        },
        "id": "nBh4KLFZQgWU",
        "outputId": "ef68b661-e1c1-42f8-b56a-64f43510ae37"
      },
      "execution_count": null,
      "outputs": [
        {
          "output_type": "stream",
          "name": "stdout",
          "text": [
            "Deletion successful\n"
          ]
        }
      ]
    },
    {
      "cell_type": "code",
      "source": [
        "import requests\n",
        "\n",
        "# Firebase Realtime Database URL\n",
        "database_url = 'https://fir-da-22mcs0012-default-rtdb.firebaseio.com/'\n",
        "\n",
        "# Path to the data you want to read\n",
        "data_path = '/Students'\n",
        "\n",
        "# Read data from Firebase Realtime Database\n",
        "response = requests.get(f'{database_url}{data_path}.json')\n",
        "\n",
        "# Check if the request was successful (HTTP status code 200)\n",
        "if response.status_code == 200:\n",
        "    data = response.json()\n",
        "    print(data)\n",
        "else:\n",
        "    print(f'Failed to read data: {response.text}')"
      ],
      "metadata": {
        "colab": {
          "base_uri": "https://localhost:8080/"
        },
        "id": "7JtpIEe1Q7Gq",
        "outputId": "2bc3354e-3c65-403f-eb32-64db28e5db23"
      },
      "execution_count": null,
      "outputs": [
        {
          "output_type": "stream",
          "name": "stdout",
          "text": [
            "{'-NX9A9NFwXgyYQUSgrLH': {'s51': {'Branch': 'Biotechnology', 'Degree': 'M.Tech', 'Institute': 'IIT BHU', 'Name': 'Vaani'}}, 'Students': {'s51': {'Name': 'Riya'}}, 's1': {'Branch': 'ECE', 'Degree': 'B.Tech.', 'Institute': 'SRM', 'Name': 'Ujan'}, 's10': {'Branch': 'Staticstics', 'Degree': 'M.Stat', 'Institute': 'ISI', 'Name': 'Arya'}, 's11': {'Branch': 'Corporate Law', 'Degree': 'LLB', 'Institute': 'MSU', 'Name': 'Aishwarya'}, 's12': {'Branch': 'Drug Technology', 'Degree': 'B.Pharm', 'Institute': 'MU', 'Name': 'Shalini'}, 's13': {'Branch': 'Civil Engineering', 'Degree': 'B.Tech', 'Institute': 'MIT', 'Name': 'Siddharth'}, 's14': {'Branch': 'Finance', 'Degree': 'B.Com', 'Institute': 'JNU', 'Name': 'Nisha'}, 's15': {'Branch': 'Astrophysics', 'Degree': 'Phd', 'Institute': 'ISRO', 'Name': 'Aditya'}, 's16': {'Branch': 'Chemistry', 'Degree': 'M.Sc.', 'Institute': 'IISER', 'Name': 'Rohan'}, 's17': {'Branch': 'Intellectual Property Law', 'Degree': 'LLM', 'Institute': 'NLSIU ', 'Name': 'Divya'}, 's18': {'Branch': 'Web Development', 'Degree': 'MCA', 'Institute': 'Amity University', 'Name': 'Neha'}, 's19': {'Branch': 'Fine Arts', 'Degree': 'B.A.', 'Institute': 'JNU', 'Name': 'Aarav'}, 's2': {'Branch': 'Marketing', 'Degree': 'MBA', 'Institution': 'IIMK', 'Name': 'Dhanush'}, 's20': {'Branch': 'Fine Arts', 'Degree': 'B.A.', 'Institute': 'JNU', 'Name': 'Aarav'}, 's21': {'Branch': 'Accounting', 'Degree': 'MBA', 'Institute': 'IIM', 'Name': 'Vikram'}, 's22': {'Branch': 'Economics', 'Degree': 'B.A.', 'Institute': 'Delhi University', 'Name': 'Aryan'}, 's23': {'Branch': '', 'Degree': '', 'Institute': '', 'Name': ''}, 's24': {'Branch': 'Fashion Design', 'Degree': 'B.Des', 'Institute': 'NIFT', 'Name': 'Varun'}, 's25': {'Branch': 'Interior Design', 'Degree': 'B.Arch', 'Institute': 'SPA, Delhi', 'Name': 'Arjun'}, 's26': {'Branch': 'English ', 'Degree': 'B.A.', 'Institute': 'Presidency College, Chennai', 'Name': 'Jyoti'}, 's27': {'Branch': 'Mechanical Engineering', 'Degree': 'B.Tech.', 'Institute': 'NIT, Surathkal', 'Name': 'Rekha'}, 's28': {'Branch': '', 'Degree': '', 'Institute': '', 'Name': ''}, 's29': {'Branch': 'CSE', 'Degree': 'M.Tech.', 'Institute': 'IITKGP', 'Name': 'Ananya'}, 's3': {'Branch': 'CSE', 'Degree': 'B.Tech.', 'Institution': 'VIT', 'Name': 'Kiara'}, 's30': {'Branch': 'Finance', 'Degree': 'BBA', 'Institute': 'Xavier School of Management (XLRI), Jamshedpur', 'Name': 'Abhinav'}, 's31': {'Branch': 'IT', 'Degree': 'B.Tech', 'Institute': 'VIT', 'Name': 'Prashant'}, 's32': {'Branch': 'Pediatrics', 'Degre': 'MBBS', 'Institute': 'CMC, Vellore', 'Name': 'Zayn'}, 's33': {'Branch': 'Denistry', 'Degree': 'BDS', 'Institute': 'Manipal College of Dental Sciences', 'Name': 'Naina'}, 's34': {'Branch': 'Applied Arts', 'Degree': 'BFA', 'Institute': 'College of Art, Delhi', 'Name': 'Tanvi'}, 's35': {'Branch': 'Business Administration', 'Degree': 'MBA', 'Institute': 'Xavier School of Management (XLRI)', 'Name': 'Uday'}, 's36': {'Branch': 'Psychology', 'Degree': 'B.A.', 'Institute': 'Christ University, Bangalore', 'Name': 'Lakhsh'}, 's38': {'Branch': 'Pharmacy', 'Degree': 'B.Pharm', 'Institute': 'Manipal College of Pharmaceutical Sciences', 'Name': 'Krish'}, 's39': {'Branch': 'Political Science', 'Degree': 'B.A.', 'Institute': 'JNU', 'Name': 'Karan'}, 's4': {'Branch': 'Data Science', 'Degree': 'M.Sc.', 'Institution': 'CMI', 'Name': 'Alisha'}, 's40': {'Branch': 'Mathematics', 'Degree': 'B.Sc.', 'Institute': 'IISC, Bangalore', 'Name': 'Kavya'}, 's41': {'Branch': 'Chemistry', 'Degree': 'B.Sc.', 'Institute': 'Delhi University', 'Name': 'Vidya'}, 's42': {'Branch': 'Biotechnology', 'Degree': 'B.Tech.', 'Institute': 'IIT Madras', 'Name': 'Trisha'}, 's43': {'Branch': '', 'Degree': '', 'Institute': '', 'Name': 'Ishita'}, 's44': {'Branch': ' Environmental Science', 'Degree': 'M.Sc.', 'Institute': 'University of Delhi', 'Name': 'Virat'}, 's45': {'Branch': 'Painting', 'Degree': 'BFA', 'Institute': 'MS University, Baroda', 'Name': 'Aaradya'}, 's46': {'Branch': 'Graphic Design', 'Degree': 'M.Des', 'Institute': 'NIFT', 'Name': 'Esha'}, 's47': {'Branch': 'Mathematics', 'Degree': 'PhD', 'Institute': 'ISI Kolkata', 'Name': 'Ishaan'}, 's48': {'Branch': 'Aerospace Engineering', 'Degree': 'B.Tech', 'Institute': 'IIST', 'Name': 'Ayush'}, 's49': {'Branch': 'Sociology', 'Degree': 'B.A.', 'Institute': 'TISS Mumbai', 'Name': 'Devika'}, 's5': {'Branch': 'CSE', 'Degree': 'M.Tech.', 'Institution': 'IITKGP', 'Name': 'Sriram'}, 's50': {'Branch': 'Nanotechnology', 'Degree': 'PhD', 'Institute': 'IIT Bombay', 'Name': 'Pooja'}, 's6': {'Branch': 'Biotechnology', 'Degree': 'Int M.Sc.', 'Institution': 'IISC', 'Name': 'Nikita'}, 's7': {'Branch': 'Mechanical Engineering', 'Degree': 'M.E.', 'Institution': 'BITS', 'Name': 'Anika'}, 's8': {'Branch': 'Physics', 'Degree': 'Ph.D', 'Institution': 'TIFR', 'Name': 'Rohit'}, 's9': {'Branch': 'Medicine', 'Degree': 'MBBS', 'Institute': 'AIIMS', 'Name': 'Priya'}}\n"
          ]
        }
      ]
    },
    {
      "cell_type": "markdown",
      "source": [
        "install for queries "
      ],
      "metadata": {
        "id": "WrRRX2x4KWjp"
      }
    },
    {
      "cell_type": "code",
      "source": [
        "!npm install -g firebase-tools\n"
      ],
      "metadata": {
        "colab": {
          "base_uri": "https://localhost:8080/"
        },
        "id": "Ing3StXTUcq_",
        "outputId": "864c6396-874f-46cb-ce9e-8b585d57445e"
      },
      "execution_count": null,
      "outputs": [
        {
          "output_type": "stream",
          "name": "stdout",
          "text": [
            "\u001b[K\u001b[?25h\u001b[37;40mnpm\u001b[0m \u001b[0m\u001b[30;43mWARN\u001b[0m \u001b[0m\u001b[35mdeprecated\u001b[0m request@2.88.2: request has been deprecated, see https://github.com/request/request/issues/3142\n",
            "\u001b[K\u001b[?25h\u001b[37;40mnpm\u001b[0m \u001b[0m\u001b[30;43mWARN\u001b[0m \u001b[0m\u001b[35mdeprecated\u001b[0m har-validator@5.1.5: this library is no longer supported\n",
            "\u001b[K\u001b[?25h\u001b[37;40mnpm\u001b[0m \u001b[0m\u001b[30;43mWARN\u001b[0m \u001b[0m\u001b[35mdeprecated\u001b[0m uuid@3.4.0: Please upgrade  to version 7 or higher.  Older versions may use Math.random() in certain circumstances, which is known to be problematic.  See https://v8.dev/blog/math-random for details.\n",
            "\u001b[K\u001b[?25h\u001b[37;40mnpm\u001b[0m \u001b[0m\u001b[30;43mWARN\u001b[0m \u001b[0m\u001b[35mdeprecated\u001b[0m @npmcli/move-file@2.0.1: This functionality has been moved to @npmcli/fs\n",
            "\u001b[K\u001b[?25h/tools/node/bin/firebase -> /tools/node/lib/node_modules/firebase-tools/lib/bin/firebase.js\n",
            "\u001b[K\u001b[?25h\n",
            "> re2@1.19.0 install /tools/node/lib/node_modules/firebase-tools/node_modules/re2\n",
            "> install-from-cache --artifact build/Release/re2.node --host-var RE2_DOWNLOAD_MIRROR --skip-path-var RE2_DOWNLOAD_SKIP_PATH --skip-ver-var RE2_DOWNLOAD_SKIP_VER || npm run rebuild\n",
            "\n",
            "Trying https://github.com/uhop/node-re2/releases/download/1.19.0/linux-x64-83.br ...\n",
            "Trying https://github.com/uhop/node-re2/releases/download/1.19.0/linux-x64-83.gz ...\n",
            "Building locally ...\n",
            "npm ERR! code EACCES\n",
            "npm ERR! syscall scandir\n",
            "npm ERR! path /root/.npm/_logs\n",
            "npm ERR! errno -13\n",
            "npm ERR! \n",
            "npm ERR! Your cache folder contains root-owned files, due to a bug in\n",
            "npm ERR! previous versions of npm which has since been addressed.\n",
            "npm ERR! \n",
            "npm ERR! To permanently fix this problem, please run:\n",
            "npm ERR!   sudo chown -R 65534:0 \"/root/.npm\"\n",
            "glob error [Error: EACCES: permission denied, scandir '/root/.npm/_logs'] {\n",
            "  errno: -13,\n",
            "  code: 'EACCES',\n",
            "  syscall: 'scandir',\n",
            "  path: '/root/.npm/_logs'\n",
            "}\n",
            "\n",
            "> re2@1.19.0 rebuild /tools/node/lib/node_modules/firebase-tools/node_modules/re2\n",
            "> node-gyp rebuild\n",
            "\n",
            "gyp WARN EACCES current user (\"nobody\") does not have permission to access the dev dir \"/root/.cache/node-gyp/14.16.0\"\n",
            "gyp WARN EACCES attempting to reinstall using temporary dev dir \"/tools/node/lib/node_modules/firebase-tools/node_modules/re2/.node-gyp\"\n",
            "gyp WARN install got an error, rolling back install\n",
            "gyp WARN install got an error, rolling back install\n",
            "gyp ERR! configure error \n",
            "gyp ERR! stack Error: EACCES: permission denied, mkdir '/tools/node/lib/node_modules/firebase-tools/node_modules/re2/.node-gyp'\n",
            "gyp ERR! System Linux 5.15.107+\n",
            "gyp ERR! command \"/tools/node/bin/node\" \"/tools/node/lib/node_modules/npm/node_modules/node-gyp/bin/node-gyp.js\" \"rebuild\"\n",
            "gyp ERR! cwd /tools/node/lib/node_modules/firebase-tools/node_modules/re2\n",
            "gyp ERR! node -v v14.16.0\n",
            "gyp ERR! node-gyp -v v5.1.0\n",
            "gyp ERR! not ok \n",
            "npm ERR! code ELIFECYCLE\n",
            "npm ERR! errno 1\n",
            "npm ERR! re2@1.19.0 rebuild: `node-gyp rebuild`\n",
            "npm ERR! Exit status 1\n",
            "npm ERR! \n",
            "npm ERR! Failed at the re2@1.19.0 rebuild script.\n",
            "npm ERR! This is probably not a problem with npm. There is likely additional logging output above.\n",
            "(node:10812) UnhandledPromiseRejectionWarning: 243\n",
            "(Use `node --trace-warnings ...` to show where the warning was created)\n",
            "(node:10812) UnhandledPromiseRejectionWarning: Unhandled promise rejection. This error originated either by throwing inside of an async function without a catch block, or by rejecting a promise which was not handled with .catch(). To terminate the node process on unhandled promise rejection, use the CLI flag `--unhandled-rejections=strict` (see https://nodejs.org/api/cli.html#cli_unhandled_rejections_mode). (rejection id: 1)\n",
            "(node:10812) [DEP0018] DeprecationWarning: Unhandled promise rejections are deprecated. In the future, promise rejections that are not handled will terminate the Node.js process with a non-zero exit code.\n",
            "\u001b[K\u001b[?25h\n",
            "> protobufjs@7.2.3 postinstall /tools/node/lib/node_modules/firebase-tools/node_modules/protobufjs\n",
            "> node scripts/postinstall\n",
            "\n",
            "\u001b[K\u001b[?25h\u001b[37;40mnpm\u001b[0m \u001b[0m\u001b[30;43mWARN\u001b[0m \u001b[0m\u001b[35mnotsup\u001b[0m Unsupported engine for firebase-tools@12.3.0: wanted: {\"node\":\">=16.13.0 || >=18.0.0\"} (current: {\"node\":\"14.16.0\",\"npm\":\"6.14.8\"})\n",
            "\u001b[0m\u001b[37;40mnpm\u001b[0m \u001b[0m\u001b[30;43mWARN\u001b[0m \u001b[0m\u001b[35mnotsup\u001b[0m Not compatible with your version of node/npm: firebase-tools@12.3.0\n",
            "\u001b[0m\u001b[37;40mnpm\u001b[0m \u001b[0m\u001b[30;43mWARN\u001b[0m \u001b[0m\u001b[35mnotsup\u001b[0m Unsupported engine for superstatic@9.0.3: wanted: {\"node\":\"^14.18.0 || >=16.4.0\"} (current: {\"node\":\"14.16.0\",\"npm\":\"6.14.8\"})\n",
            "\u001b[0m\u001b[37;40mnpm\u001b[0m \u001b[0m\u001b[30;43mWARN\u001b[0m \u001b[0m\u001b[35mnotsup\u001b[0m Not compatible with your version of node/npm: superstatic@9.0.3\n",
            "\u001b[0m\u001b[37;40mnpm\u001b[0m \u001b[0m\u001b[30;43mWARN\u001b[0m \u001b[0m\u001b[35mnotsup\u001b[0m Unsupported engine for espree@9.5.2: wanted: {\"node\":\"^12.22.0 || ^14.17.0 || >=16.0.0\"} (current: {\"node\":\"14.16.0\",\"npm\":\"6.14.8\"})\n",
            "\u001b[0m\u001b[37;40mnpm\u001b[0m \u001b[0m\u001b[30;43mWARN\u001b[0m \u001b[0m\u001b[35mnotsup\u001b[0m Not compatible with your version of node/npm: espree@9.5.2\n",
            "\u001b[0m\u001b[37;40mnpm\u001b[0m \u001b[0m\u001b[30;43mWARN\u001b[0m \u001b[0m\u001b[35mnotsup\u001b[0m Unsupported engine for eslint-visitor-keys@3.4.1: wanted: {\"node\":\"^12.22.0 || ^14.17.0 || >=16.0.0\"} (current: {\"node\":\"14.16.0\",\"npm\":\"6.14.8\"})\n",
            "\u001b[0m\u001b[37;40mnpm\u001b[0m \u001b[0m\u001b[30;43mWARN\u001b[0m \u001b[0m\u001b[35mnotsup\u001b[0m Not compatible with your version of node/npm: eslint-visitor-keys@3.4.1\n",
            "\u001b[0m\u001b[37;40mnpm\u001b[0m \u001b[0m\u001b[30;43mWARN\u001b[0m \u001b[0m\u001b[35moptional\u001b[0m SKIPPING OPTIONAL DEPENDENCY: fsevents@~2.3.2 (node_modules/firebase-tools/node_modules/chokidar/node_modules/fsevents):\n",
            "\u001b[0m\u001b[37;40mnpm\u001b[0m \u001b[0m\u001b[30;43mWARN\u001b[0m \u001b[0m\u001b[35mnotsup\u001b[0m SKIPPING OPTIONAL DEPENDENCY: Unsupported platform for fsevents@2.3.2: wanted {\"os\":\"darwin\",\"arch\":\"any\"} (current: {\"os\":\"linux\",\"arch\":\"x64\"})\n",
            "\u001b[0m\n",
            "+ firebase-tools@12.3.0\n",
            "added 632 packages from 490 contributors in 30.003s\n"
          ]
        }
      ]
    },
    {
      "cell_type": "code",
      "source": [
        "import subprocess\n",
        "import json\n",
        "\n",
        "# Define the database path\n",
        "database_path = '/Students'\n",
        "\n",
        "result = subprocess.run(['firebase', 'database:get', database_path], capture_output=True, text=True)\n",
        "print(result.stdout)\n",
        "print(result.stderr)\n",
        "\n",
        "\n"
      ],
      "metadata": {
        "colab": {
          "base_uri": "https://localhost:8080/"
        },
        "id": "bbYIcAhyKW-3",
        "outputId": "b472c9cd-0d9a-47c3-a438-4ae3d7e5b9d5"
      },
      "execution_count": null,
      "outputs": [
        {
          "output_type": "stream",
          "name": "stdout",
          "text": [
            "\n",
            "Firebase CLI v12.3.0 is incompatible with Node.js v14.16.0 Please upgrade Node.js to version >=16.13.0 || >=18.0.0\n",
            "\n"
          ]
        }
      ]
    },
    {
      "cell_type": "code",
      "source": [
        "!curl -o- https://raw.githubusercontent.com/nvm-sh/nvm/v0.38.0/install.sh | bash\n"
      ],
      "metadata": {
        "colab": {
          "base_uri": "https://localhost:8080/"
        },
        "id": "ISa-KOyiW7YY",
        "outputId": "ed4700fa-5376-42a2-c9a3-424c0f064ede"
      },
      "execution_count": null,
      "outputs": [
        {
          "output_type": "stream",
          "name": "stdout",
          "text": [
            "  % Total    % Received % Xferd  Average Speed   Time    Time     Time  Current\n",
            "                                 Dload  Upload   Total   Spent    Left  Speed\n",
            "\r  0     0    0     0    0     0      0      0 --:--:-- --:--:-- --:--:--     0\r100 14926  100 14926    0     0   694k      0 --:--:-- --:--:-- --:--:--  694k\n",
            "=> nvm is already installed in /root/.nvm, trying to update using git\n",
            "\r=> => Compressing and cleaning up git repository\n",
            "\n",
            "=> nvm source string already in /root/.bashrc\n",
            "=> bash_completion source string already in /root/.bashrc\n",
            "=> You currently have modules installed globally with `npm`. These will no\n",
            "=> longer be linked to the active version of Node when you install a new node\n",
            "=> with `nvm`; and they may (depending on how you construct your `$PATH`)\n",
            "=> override the binaries of modules installed with `nvm`:\n",
            "\n",
            "/tools/node/lib\n",
            "├── firebase-tools@12.3.0\n",
            "=> If you wish to uninstall them at a later point (or re-install them under your\n",
            "=> `nvm` Nodes), you can remove them from the system Node as follows:\n",
            "\n",
            "     $ nvm use system\n",
            "     $ npm uninstall -g a_module\n",
            "\n",
            "=> Close and reopen your terminal to start using nvm or run the following to use it now:\n",
            "\n",
            "export NVM_DIR=\"$HOME/.nvm\"\n",
            "[ -s \"$NVM_DIR/nvm.sh\" ] && \\. \"$NVM_DIR/nvm.sh\"  # This loads nvm\n",
            "[ -s \"$NVM_DIR/bash_completion\" ] && \\. \"$NVM_DIR/bash_completion\"  # This loads nvm bash_completion\n"
          ]
        }
      ]
    },
    {
      "cell_type": "code",
      "source": [
        "!source ~/.nvm/nvm.sh\n"
      ],
      "metadata": {
        "id": "GPZBGEuDW9bN"
      },
      "execution_count": null,
      "outputs": []
    },
    {
      "cell_type": "code",
      "source": [
        "!nvm install 16.13.0\n"
      ],
      "metadata": {
        "colab": {
          "base_uri": "https://localhost:8080/"
        },
        "id": "js8LoWKaXBuk",
        "outputId": "5aadbab1-7bc6-4c38-fb2a-aa92f2d8f632"
      },
      "execution_count": null,
      "outputs": [
        {
          "output_type": "stream",
          "name": "stdout",
          "text": [
            "/bin/bash: nvm: command not found\n"
          ]
        }
      ]
    },
    {
      "cell_type": "code",
      "source": [
        "!nvm alias default 16.13.0\n"
      ],
      "metadata": {
        "colab": {
          "base_uri": "https://localhost:8080/"
        },
        "id": "FfuVm7dOXDIC",
        "outputId": "f548508b-734a-4b79-809c-058bb3241301"
      },
      "execution_count": null,
      "outputs": [
        {
          "output_type": "stream",
          "name": "stdout",
          "text": [
            "/bin/bash: nvm: command not found\n"
          ]
        }
      ]
    },
    {
      "cell_type": "code",
      "source": [
        "!node --version\n"
      ],
      "metadata": {
        "colab": {
          "base_uri": "https://localhost:8080/"
        },
        "id": "Ls90oCUuXFsa",
        "outputId": "1ac842c9-0e33-4497-b247-74f251fc9be2"
      },
      "execution_count": null,
      "outputs": [
        {
          "output_type": "stream",
          "name": "stdout",
          "text": [
            "v14.16.0\n"
          ]
        }
      ]
    },
    {
      "cell_type": "code",
      "source": [
        "!npm install -g n\n"
      ],
      "metadata": {
        "colab": {
          "base_uri": "https://localhost:8080/"
        },
        "id": "PZ7TkjA2X5YS",
        "outputId": "16a1902b-cf3c-4a8f-a443-805bb782e621"
      },
      "execution_count": null,
      "outputs": [
        {
          "output_type": "stream",
          "name": "stdout",
          "text": [
            "\u001b[K\u001b[?25h/tools/node/bin/n -> /tools/node/lib/node_modules/n/bin/n\n",
            "+ n@9.1.0\n",
            "added 1 package from 2 contributors in 0.349s\n"
          ]
        }
      ]
    },
    {
      "cell_type": "code",
      "source": [
        "!n 16.13.0\n"
      ],
      "metadata": {
        "colab": {
          "base_uri": "https://localhost:8080/"
        },
        "id": "KRWiE8PvX7T2",
        "outputId": "3b645b15-bc8d-4589-9aee-21431dd877a5"
      },
      "execution_count": null,
      "outputs": [
        {
          "output_type": "stream",
          "name": "stdout",
          "text": [
            "  \u001b[36minstalling\u001b[0m : \u001b[2mnode-v16.13.0\u001b[0m\n",
            "  \u001b[36m     mkdir\u001b[0m : \u001b[2m/usr/local/n/versions/node/16.13.0\u001b[0m\n",
            "  \u001b[36m     fetch\u001b[0m : \u001b[2mhttps://nodejs.org/dist/v16.13.0/node-v16.13.0-linux-x64.tar.xz\u001b[0m\n",
            "######################################################################## 100.0%\n",
            "\u001b[1A\u001b[2K  \u001b[36m   copying\u001b[0m : \u001b[2mnode/16.13.0\u001b[0m\n",
            "  \u001b[36m installed\u001b[0m : \u001b[2mv16.13.0 (with npm 8.1.0)\u001b[0m\n",
            "\n",
            "Note: the node command changed location and the old location may be remembered in your current shell.\n",
            "  \u001b[36m       old\u001b[0m : \u001b[2m/tools/node/bin/node\u001b[0m\n",
            "  \u001b[36m       new\u001b[0m : \u001b[2m/usr/local/bin/node\u001b[0m\n",
            "If \"node --version\" shows the old version then start a new shell, or reset the location hash with:\n",
            "hash -r  (for bash, zsh, ash, dash, and ksh)\n",
            "rehash   (for csh and tcsh)\n"
          ]
        }
      ]
    },
    {
      "cell_type": "code",
      "source": [
        "!node -v\n"
      ],
      "metadata": {
        "colab": {
          "base_uri": "https://localhost:8080/"
        },
        "id": "KzS7lvm8YA9l",
        "outputId": "de19cd1a-7769-4cda-e1cf-96138eee801b"
      },
      "execution_count": null,
      "outputs": [
        {
          "output_type": "stream",
          "name": "stdout",
          "text": [
            "v16.13.0\n"
          ]
        }
      ]
    },
    {
      "cell_type": "code",
      "source": [
        "!npm install -g npm\n"
      ],
      "metadata": {
        "colab": {
          "base_uri": "https://localhost:8080/"
        },
        "id": "SuO4-zVyYBkW",
        "outputId": "8b66ecc8-f537-4afd-f767-b2836a7cc21b"
      },
      "execution_count": null,
      "outputs": [
        {
          "output_type": "stream",
          "name": "stdout",
          "text": [
            "\u001b[K\u001b[?25h\n",
            "removed 31 packages, changed 119 packages, and audited 264 packages in 4s\n",
            "\n",
            "27 packages are looking for funding\n",
            "  run `npm fund` for details\n",
            "\n",
            "found \u001b[32m\u001b[1m0\u001b[22m\u001b[39m vulnerabilities\n",
            "\u001b[37;40mnpm\u001b[0m \u001b[0m\u001b[34;40mnotice\u001b[0m\u001b[35m\u001b[0m \n",
            "\u001b[0m\u001b[37;40mnpm\u001b[0m \u001b[0m\u001b[34;40mnotice\u001b[0m\u001b[35m\u001b[0m New \u001b[31mmajor\u001b[39m version of npm available! \u001b[31m8.1.0\u001b[39m -> \u001b[32m9.6.7\u001b[39m\n",
            "\u001b[0m\u001b[37;40mnpm\u001b[0m \u001b[0m\u001b[34;40mnotice\u001b[0m\u001b[35m\u001b[0m Changelog: \u001b[36mhttps://github.com/npm/cli/releases/tag/v9.6.7\u001b[39m\n",
            "\u001b[0m\u001b[37;40mnpm\u001b[0m \u001b[0m\u001b[34;40mnotice\u001b[0m\u001b[35m\u001b[0m Run \u001b[32mnpm install -g npm@9.6.7\u001b[39m to update!\n",
            "\u001b[0m\u001b[37;40mnpm\u001b[0m \u001b[0m\u001b[34;40mnotice\u001b[0m\u001b[35m\u001b[0m \n",
            "\u001b[0m"
          ]
        }
      ]
    },
    {
      "cell_type": "code",
      "source": [
        "!firebase login --no-localhost\n"
      ],
      "metadata": {
        "colab": {
          "base_uri": "https://localhost:8080/"
        },
        "id": "B6DX-KZ0ZSe5",
        "outputId": "054f9888-bb03-4bc6-d2b1-d59f7252dde2"
      },
      "execution_count": null,
      "outputs": [
        {
          "output_type": "stream",
          "name": "stdout",
          "text": [
            "\u001b[36m\u001b[1mi \u001b[22m\u001b[39m Firebase optionally collects CLI and Emulator Suite usage and error reporting information to help improve our products. Data is collected in accordance with Google's privacy policy (https://policies.google.com/privacy) and is not used to identify you.\n",
            "\n",
            "\u001b[32m?\u001b[39m \u001b[1mAllow Firebase to collect CLI and Emulator Suite usage and error reporting \u001b[22m\n",
            "\u001b[1minformation?\u001b[22m\u001b[0m \u001b[0m\u001b[2m(Y/n) \u001b[22m\u001b[1A\u001b[19D\u001b[96C\u001b[1B\u001b[2K\u001b[1A\u001b[2K\u001b[G\u001b[32m?\u001b[39m \u001b[1mAllow Firebase to collect CLI and Emulator Suite usage and error reporting \u001b[22m\n",
            "\u001b[1minformation?\u001b[22m\u001b[0m \u001b[0m\u001b[2m(Y/n) \u001b[22mY\u001b[1A\u001b[20D\u001b[97C\u001b[1B\u001b[2K\u001b[1A\u001b[2K\u001b[G\u001b[32m?\u001b[39m \u001b[1mAllow Firebase to collect CLI and Emulator Suite usage and error reporting \u001b[22m\n",
            "\u001b[1minformation?\u001b[22m\u001b[0m \u001b[0m\u001b[36mYes\u001b[39m\u001b[1A\u001b[16D\u001b[93C\n",
            "\u001b[1B\u001b[36m\u001b[1mi \u001b[22m\u001b[39m To change your data collection preference at any time, run `firebase logout` and log in again.\n",
            "\n",
            "To sign in to the Firebase CLI:\n",
            "\n",
            "1. Take note of your session ID:\n",
            "\n",
            "   \u001b[1mA5425\u001b[22m\n",
            "\n",
            "2. Visit the URL below on any device and follow the instructions to get your code:\n",
            "\n",
            "   https://auth.firebase.tools/login?code_challenge=n3OZnliGRJJDQfadJB3j4Ex7eK40QI-30UoKmjlyckk&session=a5425a1b-c66f-42cc-9efa-650672eff3ba&attest=-IPGtpc54BXRfGfGK8Fq-vJzy8cqncmWNh48MO8XXk0\n",
            "\n",
            "3. Paste or enter the authorization code below once you have it:\n",
            "\n",
            "\u001b[32m?\u001b[39m \u001b[1mEnter authorization code:\u001b[22m\u001b[0m \u001b[0m\u001b[28D\u001b[28C\u001b[2K\u001b[G\u001b[32m?\u001b[39m \u001b[1mEnter authorization code:\u001b[22m\u001b[0m \u001b[0m4\u001b[29D\u001b[29C\u001b[2K\u001b[G\u001b[32m?\u001b[39m \u001b[1mEnter authorization code:\u001b[22m\u001b[0m \u001b[0m4/\u001b[30D\u001b[30C\u001b[2K\u001b[G\u001b[32m?\u001b[39m \u001b[1mEnter authorization code:\u001b[22m\u001b[0m \u001b[0m4/0\u001b[31D\u001b[31C\u001b[2K\u001b[G\u001b[32m?\u001b[39m \u001b[1mEnter authorization code:\u001b[22m\u001b[0m \u001b[0m4/0A\u001b[32D\u001b[32C\u001b[2K\u001b[G\u001b[32m?\u001b[39m \u001b[1mEnter authorization code:\u001b[22m\u001b[0m \u001b[0m4/0Ab\u001b[33D\u001b[33C\u001b[2K\u001b[G\u001b[32m?\u001b[39m \u001b[1mEnter authorization code:\u001b[22m\u001b[0m \u001b[0m4/0AbU\u001b[34D\u001b[34C\u001b[2K\u001b[G\u001b[32m?\u001b[39m \u001b[1mEnter authorization code:\u001b[22m\u001b[0m \u001b[0m4/0AbUR\u001b[35D\u001b[35C\u001b[2K\u001b[G\u001b[32m?\u001b[39m \u001b[1mEnter authorization code:\u001b[22m\u001b[0m \u001b[0m4/0AbUR2\u001b[36D\u001b[36C\u001b[2K\u001b[G\u001b[32m?\u001b[39m \u001b[1mEnter authorization code:\u001b[22m\u001b[0m \u001b[0m4/0AbUR2V\u001b[37D\u001b[37C\u001b[2K\u001b[G\u001b[32m?\u001b[39m \u001b[1mEnter authorization code:\u001b[22m\u001b[0m \u001b[0m4/0AbUR2VO\u001b[38D\u001b[38C\u001b[2K\u001b[G\u001b[32m?\u001b[39m \u001b[1mEnter authorization code:\u001b[22m\u001b[0m \u001b[0m4/0AbUR2VO3\u001b[39D\u001b[39C\u001b[2K\u001b[G\u001b[32m?\u001b[39m \u001b[1mEnter authorization code:\u001b[22m\u001b[0m \u001b[0m4/0AbUR2VO31\u001b[40D\u001b[40C\u001b[2K\u001b[G\u001b[32m?\u001b[39m \u001b[1mEnter authorization code:\u001b[22m\u001b[0m \u001b[0m4/0AbUR2VO31f\u001b[41D\u001b[41C\u001b[2K\u001b[G\u001b[32m?\u001b[39m \u001b[1mEnter authorization code:\u001b[22m\u001b[0m \u001b[0m4/0AbUR2VO31fq\u001b[42D\u001b[42C\u001b[2K\u001b[G\u001b[32m?\u001b[39m \u001b[1mEnter authorization code:\u001b[22m\u001b[0m \u001b[0m4/0AbUR2VO31fqd\u001b[43D\u001b[43C\u001b[2K\u001b[G\u001b[32m?\u001b[39m \u001b[1mEnter authorization code:\u001b[22m\u001b[0m \u001b[0m4/0AbUR2VO31fqdH\u001b[44D\u001b[44C\u001b[2K\u001b[G\u001b[32m?\u001b[39m \u001b[1mEnter authorization code:\u001b[22m\u001b[0m \u001b[0m4/0AbUR2VO31fqdHx\u001b[45D\u001b[45C\u001b[2K\u001b[G\u001b[32m?\u001b[39m \u001b[1mEnter authorization code:\u001b[22m\u001b[0m \u001b[0m4/0AbUR2VO31fqdHxG\u001b[46D\u001b[46C\u001b[2K\u001b[G\u001b[32m?\u001b[39m \u001b[1mEnter authorization code:\u001b[22m\u001b[0m \u001b[0m4/0AbUR2VO31fqdHxGO\u001b[47D\u001b[47C\u001b[2K\u001b[G\u001b[32m?\u001b[39m \u001b[1mEnter authorization code:\u001b[22m\u001b[0m \u001b[0m4/0AbUR2VO31fqdHxGOM\u001b[48D\u001b[48C\u001b[2K\u001b[G\u001b[32m?\u001b[39m \u001b[1mEnter authorization code:\u001b[22m\u001b[0m \u001b[0m4/0AbUR2VO31fqdHxGOMg\u001b[49D\u001b[49C\u001b[2K\u001b[G\u001b[32m?\u001b[39m \u001b[1mEnter authorization code:\u001b[22m\u001b[0m \u001b[0m4/0AbUR2VO31fqdHxGOMgS\u001b[50D\u001b[50C\u001b[2K\u001b[G\u001b[32m?\u001b[39m \u001b[1mEnter authorization code:\u001b[22m\u001b[0m \u001b[0m4/0AbUR2VO31fqdHxGOMgS7\u001b[51D\u001b[51C\u001b[2K\u001b[G\u001b[32m?\u001b[39m \u001b[1mEnter authorization code:\u001b[22m\u001b[0m \u001b[0m4/0AbUR2VO31fqdHxGOMgS7d\u001b[52D\u001b[52C\u001b[2K\u001b[G\u001b[32m?\u001b[39m \u001b[1mEnter authorization code:\u001b[22m\u001b[0m \u001b[0m4/0AbUR2VO31fqdHxGOMgS7d8\u001b[53D\u001b[53C\u001b[2K\u001b[G\u001b[32m?\u001b[39m \u001b[1mEnter authorization code:\u001b[22m\u001b[0m \u001b[0m4/0AbUR2VO31fqdHxGOMgS7d8C\u001b[54D\u001b[54C\u001b[2K\u001b[G\u001b[32m?\u001b[39m \u001b[1mEnter authorization code:\u001b[22m\u001b[0m \u001b[0m4/0AbUR2VO31fqdHxGOMgS7d8Cf\u001b[55D\u001b[55C\u001b[2K\u001b[G\u001b[32m?\u001b[39m \u001b[1mEnter authorization code:\u001b[22m\u001b[0m \u001b[0m4/0AbUR2VO31fqdHxGOMgS7d8CfR\u001b[56D\u001b[56C\u001b[2K\u001b[G\u001b[32m?\u001b[39m \u001b[1mEnter authorization code:\u001b[22m\u001b[0m \u001b[0m4/0AbUR2VO31fqdHxGOMgS7d8CfRS\u001b[57D\u001b[57C\u001b[2K\u001b[G\u001b[32m?\u001b[39m \u001b[1mEnter authorization code:\u001b[22m\u001b[0m \u001b[0m4/0AbUR2VO31fqdHxGOMgS7d8CfRSX\u001b[58D\u001b[58C\u001b[2K\u001b[G\u001b[32m?\u001b[39m \u001b[1mEnter authorization code:\u001b[22m\u001b[0m \u001b[0m4/0AbUR2VO31fqdHxGOMgS7d8CfRSX5\u001b[59D\u001b[59C\u001b[2K\u001b[G\u001b[32m?\u001b[39m \u001b[1mEnter authorization code:\u001b[22m\u001b[0m \u001b[0m4/0AbUR2VO31fqdHxGOMgS7d8CfRSX5s\u001b[60D\u001b[60C\u001b[2K\u001b[G\u001b[32m?\u001b[39m \u001b[1mEnter authorization code:\u001b[22m\u001b[0m \u001b[0m4/0AbUR2VO31fqdHxGOMgS7d8CfRSX5sQ\u001b[61D\u001b[61C\u001b[2K\u001b[G\u001b[32m?\u001b[39m \u001b[1mEnter authorization code:\u001b[22m\u001b[0m \u001b[0m4/0AbUR2VO31fqdHxGOMgS7d8CfRSX5sQo\u001b[62D\u001b[62C\u001b[2K\u001b[G\u001b[32m?\u001b[39m \u001b[1mEnter authorization code:\u001b[22m\u001b[0m \u001b[0m4/0AbUR2VO31fqdHxGOMgS7d8CfRSX5sQof\u001b[63D\u001b[63C\u001b[2K\u001b[G\u001b[32m?\u001b[39m \u001b[1mEnter authorization code:\u001b[22m\u001b[0m \u001b[0m4/0AbUR2VO31fqdHxGOMgS7d8CfRSX5sQofG\u001b[64D\u001b[64C\u001b[2K\u001b[G\u001b[32m?\u001b[39m \u001b[1mEnter authorization code:\u001b[22m\u001b[0m \u001b[0m4/0AbUR2VO31fqdHxGOMgS7d8CfRSX5sQofGy\u001b[65D\u001b[65C\u001b[2K\u001b[G\u001b[32m?\u001b[39m \u001b[1mEnter authorization code:\u001b[22m\u001b[0m \u001b[0m4/0AbUR2VO31fqdHxGOMgS7d8CfRSX5sQofGy1\u001b[66D\u001b[66C\u001b[2K\u001b[G\u001b[32m?\u001b[39m \u001b[1mEnter authorization code:\u001b[22m\u001b[0m \u001b[0m4/0AbUR2VO31fqdHxGOMgS7d8CfRSX5sQofGy1Z\u001b[67D\u001b[67C\u001b[2K\u001b[G\u001b[32m?\u001b[39m \u001b[1mEnter authorization code:\u001b[22m\u001b[0m \u001b[0m4/0AbUR2VO31fqdHxGOMgS7d8CfRSX5sQofGy1ZK\u001b[68D\u001b[68C\u001b[2K\u001b[G\u001b[32m?\u001b[39m \u001b[1mEnter authorization code:\u001b[22m\u001b[0m \u001b[0m4/0AbUR2VO31fqdHxGOMgS7d8CfRSX5sQofGy1ZK-\u001b[69D\u001b[69C\u001b[2K\u001b[G\u001b[32m?\u001b[39m \u001b[1mEnter authorization code:\u001b[22m\u001b[0m \u001b[0m4/0AbUR2VO31fqdHxGOMgS7d8CfRSX5sQofGy1ZK-D\u001b[70D\u001b[70C\u001b[2K\u001b[G\u001b[32m?\u001b[39m \u001b[1mEnter authorization code:\u001b[22m\u001b[0m \u001b[0m4/0AbUR2VO31fqdHxGOMgS7d8CfRSX5sQofGy1ZK-Dp\u001b[71D\u001b[71C\u001b[2K\u001b[G\u001b[32m?\u001b[39m \u001b[1mEnter authorization code:\u001b[22m\u001b[0m \u001b[0m4/0AbUR2VO31fqdHxGOMgS7d8CfRSX5sQofGy1ZK-DpA\u001b[72D\u001b[72C\u001b[2K\u001b[G\u001b[32m?\u001b[39m \u001b[1mEnter authorization code:\u001b[22m\u001b[0m \u001b[0m4/0AbUR2VO31fqdHxGOMgS7d8CfRSX5sQofGy1ZK-DpA0\u001b[73D\u001b[73C\u001b[2K\u001b[G\u001b[32m?\u001b[39m \u001b[1mEnter authorization code:\u001b[22m\u001b[0m \u001b[0m4/0AbUR2VO31fqdHxGOMgS7d8CfRSX5sQofGy1ZK-DpA0f\u001b[74D\u001b[74C\u001b[2K\u001b[G\u001b[32m?\u001b[39m \u001b[1mEnter authorization code:\u001b[22m\u001b[0m \u001b[0m4/0AbUR2VO31fqdHxGOMgS7d8CfRSX5sQofGy1ZK-DpA0fW\u001b[75D\u001b[75C\u001b[2K\u001b[G\u001b[32m?\u001b[39m \u001b[1mEnter authorization code:\u001b[22m\u001b[0m \u001b[0m4/0AbUR2VO31fqdHxGOMgS7d8CfRSX5sQofGy1ZK-DpA0fWS\u001b[76D\u001b[76C\u001b[2K\u001b[G\u001b[32m?\u001b[39m \u001b[1mEnter authorization code:\u001b[22m\u001b[0m \u001b[0m4/0AbUR2VO31fqdHxGOMgS7d8CfRSX5sQofGy1ZK-DpA0fWSl\u001b[77D\u001b[77C\u001b[2K\u001b[G\u001b[32m?\u001b[39m \u001b[1mEnter authorization code:\u001b[22m\u001b[0m \u001b[0m4/0AbUR2VO31fqdHxGOMgS7d8CfRSX5sQofGy1ZK-DpA0fWSlB\u001b[78D\u001b[78C\u001b[2K\u001b[G\u001b[32m?\u001b[39m \u001b[1mEnter authorization code:\u001b[22m\u001b[0m \u001b[0m4/0AbUR2VO31fqdHxGOMgS7d8CfRSX5sQofGy1ZK-DpA0fWSlBr\u001b[79D\u001b[79C\u001b[2K\u001b[G\u001b[32m?\u001b[39m \u001b[1mEnter authorization code:\u001b[22m\u001b[0m \u001b[0m4/0AbUR2VO31fqdHxGOMgS7d8CfRSX5sQofGy1ZK-DpA0fWSlBrN\n",
            "\u001b[1A\u001b[0D\u001b[80C\u001b[1B\u001b[2K\u001b[1A\u001b[2K\u001b[G\u001b[32m?\u001b[39m \u001b[1mEnter authorization code:\u001b[22m\u001b[0m \n",
            "\u001b[0m4/0AbUR2VO31fqdHxGOMgS7d8CfRSX5sQofGy1ZK-DpA0fWSlBrN0\u001b[1A\u001b[53D\u001b[81C\u001b[1B\u001b[2K\u001b[1A\u001b[2K\u001b[G\u001b[32m?\u001b[39m \u001b[1mEnter authorization code:\u001b[22m\u001b[0m \n",
            "\u001b[0m4/0AbUR2VO31fqdHxGOMgS7d8CfRSX5sQofGy1ZK-DpA0fWSlBrN0C\u001b[1A\u001b[54D\u001b[82C\u001b[1B\u001b[2K\u001b[1A\u001b[2K\u001b[G\u001b[32m?\u001b[39m \u001b[1mEnter authorization code:\u001b[22m\u001b[0m \n",
            "\u001b[0m4/0AbUR2VO31fqdHxGOMgS7d8CfRSX5sQofGy1ZK-DpA0fWSlBrN0CZ\u001b[1A\u001b[55D\u001b[83C\u001b[1B\u001b[2K\u001b[1A\u001b[2K\u001b[G\u001b[32m?\u001b[39m \u001b[1mEnter authorization code:\u001b[22m\u001b[0m \n",
            "\u001b[0m4/0AbUR2VO31fqdHxGOMgS7d8CfRSX5sQofGy1ZK-DpA0fWSlBrN0CZl\u001b[1A\u001b[56D\u001b[84C\u001b[1B\u001b[2K\u001b[1A\u001b[2K\u001b[G\u001b[32m?\u001b[39m \u001b[1mEnter authorization code:\u001b[22m\u001b[0m \n",
            "\u001b[0m4/0AbUR2VO31fqdHxGOMgS7d8CfRSX5sQofGy1ZK-DpA0fWSlBrN0CZlw\u001b[1A\u001b[57D\u001b[85C\u001b[1B\u001b[2K\u001b[1A\u001b[2K\u001b[G\u001b[32m?\u001b[39m \u001b[1mEnter authorization code:\u001b[22m\u001b[0m \n",
            "\u001b[0m4/0AbUR2VO31fqdHxGOMgS7d8CfRSX5sQofGy1ZK-DpA0fWSlBrN0CZlwI\u001b[1A\u001b[58D\u001b[86C\u001b[1B\u001b[2K\u001b[1A\u001b[2K\u001b[G\u001b[32m?\u001b[39m \u001b[1mEnter authorization code:\u001b[22m\u001b[0m \n",
            "\u001b[0m4/0AbUR2VO31fqdHxGOMgS7d8CfRSX5sQofGy1ZK-DpA0fWSlBrN0CZlwI8\u001b[1A\u001b[59D\u001b[87C\u001b[1B\u001b[2K\u001b[1A\u001b[2K\u001b[G\u001b[32m?\u001b[39m \u001b[1mEnter authorization code:\u001b[22m\u001b[0m \n",
            "\u001b[0m4/0AbUR2VO31fqdHxGOMgS7d8CfRSX5sQofGy1ZK-DpA0fWSlBrN0CZlwI8C\u001b[1A\u001b[60D\u001b[88C\u001b[1B\u001b[2K\u001b[1A\u001b[2K\u001b[G\u001b[32m?\u001b[39m \u001b[1mEnter authorization code:\u001b[22m\u001b[0m \n",
            "\u001b[0m4/0AbUR2VO31fqdHxGOMgS7d8CfRSX5sQofGy1ZK-DpA0fWSlBrN0CZlwI8Ch\u001b[1A\u001b[61D\u001b[89C\u001b[1B\u001b[2K\u001b[1A\u001b[2K\u001b[G\u001b[32m?\u001b[39m \u001b[1mEnter authorization code:\u001b[22m\u001b[0m \n",
            "\u001b[0m4/0AbUR2VO31fqdHxGOMgS7d8CfRSX5sQofGy1ZK-DpA0fWSlBrN0CZlwI8Chk\u001b[1A\u001b[62D\u001b[90C\u001b[1B\u001b[2K\u001b[1A\u001b[2K\u001b[G\u001b[32m?\u001b[39m \u001b[1mEnter authorization code:\u001b[22m\u001b[0m \n",
            "\u001b[0m4/0AbUR2VO31fqdHxGOMgS7d8CfRSX5sQofGy1ZK-DpA0fWSlBrN0CZlwI8Chkv\u001b[1A\u001b[63D\u001b[91C\u001b[1B\u001b[2K\u001b[1A\u001b[2K\u001b[G\u001b[32m?\u001b[39m \u001b[1mEnter authorization code:\u001b[22m\u001b[0m \n",
            "\u001b[0m4/0AbUR2VO31fqdHxGOMgS7d8CfRSX5sQofGy1ZK-DpA0fWSlBrN0CZlwI8ChkvB\u001b[1A\u001b[64D\u001b[92C\u001b[1B\u001b[2K\u001b[1A\u001b[2K\u001b[G\u001b[32m?\u001b[39m \u001b[1mEnter authorization code:\u001b[22m\u001b[0m \n",
            "\u001b[0m4/0AbUR2VO31fqdHxGOMgS7d8CfRSX5sQofGy1ZK-DpA0fWSlBrN0CZlwI8ChkvBv\u001b[1A\u001b[65D\u001b[93C\u001b[1B\u001b[2K\u001b[1A\u001b[2K\u001b[G\u001b[32m?\u001b[39m \u001b[1mEnter authorization code:\u001b[22m\u001b[0m \n",
            "\u001b[0m4/0AbUR2VO31fqdHxGOMgS7d8CfRSX5sQofGy1ZK-DpA0fWSlBrN0CZlwI8ChkvBva\u001b[1A\u001b[66D\u001b[94C\u001b[1B\u001b[2K\u001b[1A\u001b[2K\u001b[G\u001b[32m?\u001b[39m \u001b[1mEnter authorization code:\u001b[22m\u001b[0m \n",
            "\u001b[0m4/0AbUR2VO31fqdHxGOMgS7d8CfRSX5sQofGy1ZK-DpA0fWSlBrN0CZlwI8ChkvBvaF\u001b[1A\u001b[67D\u001b[95C\u001b[1B\u001b[2K\u001b[1A\u001b[2K\u001b[G\u001b[32m?\u001b[39m \u001b[1mEnter authorization code:\u001b[22m\u001b[0m \n",
            "\u001b[0m4/0AbUR2VO31fqdHxGOMgS7d8CfRSX5sQofGy1ZK-DpA0fWSlBrN0CZlwI8ChkvBvaFN\u001b[1A\u001b[68D\u001b[96C\u001b[1B\u001b[2K\u001b[1A\u001b[2K\u001b[G\u001b[32m?\u001b[39m \u001b[1mEnter authorization code:\u001b[22m\u001b[0m \n",
            "\u001b[0m4/0AbUR2VO31fqdHxGOMgS7d8CfRSX5sQofGy1ZK-DpA0fWSlBrN0CZlwI8ChkvBvaFNB\u001b[1A\u001b[69D\u001b[97C\u001b[1B\u001b[2K\u001b[1A\u001b[2K\u001b[G\u001b[32m?\u001b[39m \u001b[1mEnter authorization code:\u001b[22m\u001b[0m \n",
            "\u001b[0m4/0AbUR2VO31fqdHxGOMgS7d8CfRSX5sQofGy1ZK-DpA0fWSlBrN0CZlwI8ChkvBvaFNBf\u001b[1A\u001b[70D\u001b[98C\u001b[1B\u001b[2K\u001b[1A\u001b[2K\u001b[G\u001b[32m?\u001b[39m \u001b[1mEnter authorization code:\u001b[22m\u001b[0m \n",
            "\u001b[0m4/0AbUR2VO31fqdHxGOMgS7d8CfRSX5sQofGy1ZK-DpA0fWSlBrN0CZlwI8ChkvBvaFNBf_\u001b[1A\u001b[71D\u001b[99C\u001b[1B\u001b[2K\u001b[1A\u001b[2K\u001b[G\u001b[32m?\u001b[39m \u001b[1mEnter authorization code:\u001b[22m\u001b[0m \n",
            "\u001b[0m4/0AbUR2VO31fqdHxGOMgS7d8CfRSX5sQofGy1ZK-DpA0fWSlBrN0CZlwI8ChkvBvaFNBf_X\u001b[1A\u001b[72D\u001b[100C\u001b[1B\u001b[2K\u001b[1A\u001b[2K\u001b[G\u001b[32m?\u001b[39m \u001b[1mEnter authorization code:\u001b[22m\u001b[0m \n",
            "\u001b[0m4/0AbUR2VO31fqdHxGOMgS7d8CfRSX5sQofGy1ZK-DpA0fWSlBrN0CZlwI8ChkvBvaFNBf_XQ\u001b[1A\u001b[73D\u001b[101C\u001b[1B\u001b[2K\u001b[1A\u001b[2K\u001b[G\u001b[32m?\u001b[39m \u001b[1mEnter authorization code:\u001b[22m\u001b[0m \n",
            "\u001b[0m\u001b[36m4/0AbUR2VO31fqdHxGOMgS7d8CfRSX5sQofGy1ZK-DpA0fWSlBrN0CZlwI8ChkvBvaFNBf_XQ\u001b[39m\u001b[1A\u001b[73D\u001b[101C\n",
            "\u001b[1B\n",
            "\u001b[32m\u001b[1m✔ \u001b[22m\u001b[39m Success! Logged in as \u001b[1msrijitakhatua14@gmail.com\u001b[22m\n"
          ]
        }
      ]
    },
    {
      "cell_type": "code",
      "source": [
        "!firebase projects:list\n"
      ],
      "metadata": {
        "id": "VA5KoyJtcAW7",
        "outputId": "f525a456-c9df-4c46-e43c-4a595e526cf4",
        "colab": {
          "base_uri": "https://localhost:8080/"
        }
      },
      "execution_count": null,
      "outputs": [
        {
          "output_type": "stream",
          "name": "stdout",
          "text": [
            "\u001b[?25l\u001b[36m⠋\u001b[39m Preparing the list of your Firebase projects\u001b[2K\u001b[1G\u001b[36m⠙\u001b[39m Preparing the list of your Firebase projects\u001b[2K\u001b[1G\u001b[36m⠹\u001b[39m Preparing the list of your Firebase projects\u001b[2K\u001b[1G\u001b[36m⠸\u001b[39m Preparing the list of your Firebase projects\u001b[2K\u001b[1G\u001b[36m⠼\u001b[39m Preparing the list of your Firebase projects\u001b[2K\u001b[1G\u001b[?25h\u001b[32m✔\u001b[39m Preparing the list of your Firebase projects\n",
            "\u001b[90m┌───────────────────────┬──────────────────┬────────────────┬──────────────────────┐\u001b[39m\n",
            "\u001b[90m│\u001b[39m\u001b[32m Project Display Name  \u001b[39m\u001b[90m│\u001b[39m\u001b[32m Project ID       \u001b[39m\u001b[90m│\u001b[39m\u001b[32m Project Number \u001b[39m\u001b[90m│\u001b[39m\u001b[32m Resource Location ID \u001b[39m\u001b[90m│\u001b[39m\n",
            "\u001b[90m├───────────────────────┼──────────────────┼────────────────┼──────────────────────┤\u001b[39m\n",
            "\u001b[90m│\u001b[39m firebase-da-22mcs0012 \u001b[90m│\u001b[39m fir-da-22mcs0012 \u001b[90m│\u001b[39m 917919100185   \u001b[90m│\u001b[39m \u001b[33m[Not specified]\u001b[39m      \u001b[90m│\u001b[39m\n",
            "\u001b[90m└───────────────────────┴──────────────────┴────────────────┴──────────────────────┘\u001b[39m\n",
            "\n",
            "1 project(s) total.\n",
            "\u001b[?25h"
          ]
        }
      ]
    },
    {
      "cell_type": "code",
      "source": [
        "!firebase use --add"
      ],
      "metadata": {
        "colab": {
          "base_uri": "https://localhost:8080/"
        },
        "id": "PB1n9ZTQaKg2",
        "outputId": "4247a5ba-e365-4832-a1dc-232d085b9a2e"
      },
      "execution_count": null,
      "outputs": [
        {
          "output_type": "stream",
          "name": "stdout",
          "text": [
            "\n",
            "\u001b[1m\u001b[31mError:\u001b[39m\u001b[22m \u001b[1mfirebase use\u001b[22m must be run from a Firebase project directory.\n",
            "\n",
            "Run \u001b[1mfirebase init\u001b[22m to start a project directory in the current folder.\n",
            "\n",
            "Having trouble? Try \u001b[1mfirebase [command] --help\u001b[22m\n"
          ]
        }
      ]
    },
    {
      "cell_type": "markdown",
      "source": [
        "Queries"
      ],
      "metadata": {
        "id": "JqRwf2IFWxkF"
      }
    },
    {
      "cell_type": "code",
      "source": [
        "import subprocess\n",
        "import json\n",
        "\n",
        "# Define the database path\n",
        "database_path = '/'\n",
        "\n",
        "# Execute the Firebase CLI command to retrieve the data\n",
        "result = subprocess.run(['firebase', 'database:get', database_path], capture_output=True, text=True)\n",
        "\n",
        "# Parse the JSON response\n",
        "#data = json.loads(result.stdout)\n",
        "\n",
        "# Print the retrieved data\n",
        "print(result.stdout)\n",
        "\n"
      ],
      "metadata": {
        "colab": {
          "base_uri": "https://localhost:8080/"
        },
        "id": "-x-hVWTpXK1N",
        "outputId": "a9c96f74-27ad-4c0b-f3d2-f77cafed89b9"
      },
      "execution_count": null,
      "outputs": [
        {
          "output_type": "stream",
          "name": "stdout",
          "text": [
            "\n",
            "Error: Failed to get details for project: undefined.\n",
            "\n"
          ]
        }
      ]
    },
    {
      "cell_type": "markdown",
      "source": [
        "QUERIES "
      ],
      "metadata": {
        "id": "oSCAQCRvd95J"
      }
    },
    {
      "cell_type": "code",
      "source": [
        "import firebase_admin\n",
        "from firebase_admin import credentials\n",
        "from firebase_admin import db\n",
        "\n",
        "# Initialize Firebase with your project credentials\n",
        "cred = credentials.Certificate('/content/pathtoserviceAccountKey.json')\n",
        "firebase_admin.initialize_app(cred, {\n",
        "    'databaseURL': 'https://fir-da-22mcs0012-default-rtdb.firebaseio.com/'\n",
        "}, name='my-app4')\n",
        "\n",
        "# Get a reference to the database\n",
        "app = firebase_admin.get_app(name='my-app1')\n",
        "ref = db.reference('/Students', app=app)\n"
      ],
      "metadata": {
        "id": "a8nULl7PZG_k"
      },
      "execution_count": null,
      "outputs": []
    },
    {
      "cell_type": "code",
      "source": [
        "# Query 1: Retrieve the data of all students\n",
        "all_students = ref.get()\n",
        "for student in all_students.values():\n",
        "    print(student)\n",
        "    print()"
      ],
      "metadata": {
        "colab": {
          "base_uri": "https://localhost:8080/"
        },
        "id": "RutEiT_EcBHy",
        "outputId": "68565dbc-bc9d-459f-9eaf-84806971333e"
      },
      "execution_count": null,
      "outputs": [
        {
          "output_type": "stream",
          "name": "stdout",
          "text": [
            "{'s51': {'Branch': 'Biotechnology', 'Degree': 'M.Tech', 'Institute': 'IIT BHU', 'Name': 'Vaani'}}\n",
            "\n",
            "{'s51': {'Name': 'Riya'}}\n",
            "\n",
            "{'Branch': 'ECE', 'Degree': 'B.Tech.', 'Institute': 'SRM', 'Name': 'Ujan'}\n",
            "\n",
            "{'Branch': 'Staticstics', 'Degree': 'M.Stat', 'Institute': 'ISI', 'Name': 'Arya'}\n",
            "\n",
            "{'Branch': 'Corporate Law', 'Degree': 'LLB', 'Institute': 'MSU', 'Name': 'Aishwarya'}\n",
            "\n",
            "{'Branch': 'Drug Technology', 'Degree': 'B.Pharm', 'Institute': 'MU', 'Name': 'Shalini'}\n",
            "\n",
            "{'Branch': 'Civil Engineering', 'Degree': 'B.Tech', 'Institute': 'MIT', 'Name': 'Siddharth'}\n",
            "\n",
            "{'Branch': 'Finance', 'Degree': 'B.Com', 'Institute': 'JNU', 'Name': 'Nisha'}\n",
            "\n",
            "{'Branch': 'Astrophysics', 'Degree': 'Phd', 'Institute': 'ISRO', 'Name': 'Aditya'}\n",
            "\n",
            "{'Branch': 'Chemistry', 'Degree': 'M.Sc.', 'Institute': 'IISER', 'Name': 'Rohan'}\n",
            "\n",
            "{'Branch': 'Intellectual Property Law', 'Degree': 'LLM', 'Institute': 'NLSIU ', 'Name': 'Divya'}\n",
            "\n",
            "{'Branch': 'Web Development', 'Degree': 'MCA', 'Institute': 'Amity University', 'Name': 'Neha'}\n",
            "\n",
            "{'Branch': 'Fine Arts', 'Degree': 'B.A.', 'Institute': 'JNU', 'Name': 'Aarav'}\n",
            "\n",
            "{'Branch': 'Marketing', 'Degree': 'MBA', 'Institution': 'IIMK', 'Name': 'Dhanush'}\n",
            "\n",
            "{'Branch': 'Fine Arts', 'Degree': 'B.A.', 'Institute': 'JNU', 'Name': 'Aarav'}\n",
            "\n",
            "{'Branch': 'Accounting', 'Degree': 'MBA', 'Institute': 'IIM', 'Name': 'Vikram'}\n",
            "\n",
            "{'Branch': 'Economics', 'Degree': 'B.A.', 'Institute': 'Delhi University', 'Name': 'Aryan'}\n",
            "\n",
            "{'Branch': '', 'Degree': '', 'Institute': '', 'Name': ''}\n",
            "\n",
            "{'Branch': 'Fashion Design', 'Degree': 'B.Des', 'Institute': 'NIFT', 'Name': 'Varun'}\n",
            "\n",
            "{'Branch': 'Interior Design', 'Degree': 'B.Arch', 'Institute': 'SPA, Delhi', 'Name': 'Arjun'}\n",
            "\n",
            "{'Branch': 'English ', 'Degree': 'B.A.', 'Institute': 'Presidency College, Chennai', 'Name': 'Jyoti'}\n",
            "\n",
            "{'Branch': 'Mechanical Engineering', 'Degree': 'B.Tech.', 'Institute': 'NIT, Surathkal', 'Name': 'Rekha'}\n",
            "\n",
            "{'Branch': '', 'Degree': '', 'Institute': '', 'Name': ''}\n",
            "\n",
            "{'Branch': 'CSE', 'Degree': 'M.Tech.', 'Institute': 'IITKGP', 'Name': 'Ananya'}\n",
            "\n",
            "{'Branch': 'CSE', 'Degree': 'B.Tech.', 'Institution': 'VIT', 'Name': 'Kiara'}\n",
            "\n",
            "{'Branch': 'Finance', 'Degree': 'BBA', 'Institute': 'Xavier School of Management (XLRI), Jamshedpur', 'Name': 'Abhinav'}\n",
            "\n",
            "{'Branch': 'IT', 'Degree': 'B.Tech', 'Institute': 'VIT', 'Name': 'Prashant'}\n",
            "\n",
            "{'Branch': 'Pediatrics', 'Degre': 'MBBS', 'Institute': 'CMC, Vellore', 'Name': 'Zayn'}\n",
            "\n",
            "{'Branch': 'Denistry', 'Degree': 'BDS', 'Institute': 'Manipal College of Dental Sciences', 'Name': 'Naina'}\n",
            "\n",
            "{'Branch': 'Applied Arts', 'Degree': 'BFA', 'Institute': 'College of Art, Delhi', 'Name': 'Tanvi'}\n",
            "\n",
            "{'Branch': 'Business Administration', 'Degree': 'MBA', 'Institute': 'Xavier School of Management (XLRI)', 'Name': 'Uday'}\n",
            "\n",
            "{'Branch': 'Psychology', 'Degree': 'B.A.', 'Institute': 'Christ University, Bangalore', 'Name': 'Lakhsh'}\n",
            "\n",
            "{'Branch': 'Pharmacy', 'Degree': 'B.Pharm', 'Institute': 'Manipal College of Pharmaceutical Sciences', 'Name': 'Krish'}\n",
            "\n",
            "{'Branch': 'Political Science', 'Degree': 'B.A.', 'Institute': 'JNU', 'Name': 'Karan'}\n",
            "\n",
            "{'Branch': 'Data Science', 'Degree': 'M.Sc.', 'Institution': 'CMI', 'Name': 'Alisha'}\n",
            "\n",
            "{'Branch': 'Mathematics', 'Degree': 'B.Sc.', 'Institute': 'IISC, Bangalore', 'Name': 'Kavya'}\n",
            "\n",
            "{'Branch': 'Chemistry', 'Degree': 'B.Sc.', 'Institute': 'Delhi University', 'Name': 'Vidya'}\n",
            "\n",
            "{'Branch': 'Biotechnology', 'Degree': 'B.Tech.', 'Institute': 'IIT Madras', 'Name': 'Trisha'}\n",
            "\n",
            "{'Branch': '', 'Degree': '', 'Institute': '', 'Name': 'Ishita'}\n",
            "\n",
            "{'Branch': ' Environmental Science', 'Degree': 'M.Sc.', 'Institute': 'University of Delhi', 'Name': 'Virat'}\n",
            "\n",
            "{'Branch': 'Painting', 'Degree': 'BFA', 'Institute': 'MS University, Baroda', 'Name': 'Aaradya'}\n",
            "\n",
            "{'Branch': 'Graphic Design', 'Degree': 'M.Des', 'Institute': 'NIFT', 'Name': 'Esha'}\n",
            "\n",
            "{'Branch': 'Mathematics', 'Degree': 'PhD', 'Institute': 'ISI Kolkata', 'Name': 'Ishaan'}\n",
            "\n",
            "{'Branch': 'Aerospace Engineering', 'Degree': 'B.Tech', 'Institute': 'IIST', 'Name': 'Ayush'}\n",
            "\n",
            "{'Branch': 'Sociology', 'Degree': 'B.A.', 'Institute': 'TISS Mumbai', 'Name': 'Devika'}\n",
            "\n",
            "{'Branch': 'CSE', 'Degree': 'M.Tech.', 'Institution': 'IITKGP', 'Name': 'Sriram'}\n",
            "\n",
            "{'Branch': 'Nanotechnology', 'Degree': 'PhD', 'Institute': 'IIT Bombay', 'Name': 'Pooja'}\n",
            "\n",
            "{'Branch': 'Biotechnology', 'Degree': 'Int M.Sc.', 'Institution': 'IISC', 'Name': 'Nikita'}\n",
            "\n",
            "{'Branch': 'Mechanical Engineering', 'Degree': 'M.E.', 'Institution': 'BITS', 'Name': 'Anika'}\n",
            "\n",
            "{'Branch': 'Physics', 'Degree': 'Ph.D', 'Institution': 'TIFR', 'Name': 'Rohit'}\n",
            "\n",
            "{'Branch': 'Medicine', 'Degree': 'MBBS', 'Institute': 'AIIMS', 'Name': 'Priya'}\n",
            "\n"
          ]
        }
      ]
    },
    {
      "cell_type": "code",
      "source": [
        "# Query 2: Retrieve the names of all students\n",
        "all_students = ref.get()\n",
        "student_names = [student.get('Name') for student in all_students.values() if student.get('Name')]\n",
        "for name in student_names:\n",
        "    print(name)"
      ],
      "metadata": {
        "colab": {
          "base_uri": "https://localhost:8080/"
        },
        "id": "pTDJY1hncH7d",
        "outputId": "dc76f40d-6222-40f1-a11a-a3a9b7ec3454"
      },
      "execution_count": null,
      "outputs": [
        {
          "output_type": "stream",
          "name": "stdout",
          "text": [
            "Ujan\n",
            "Arya\n",
            "Aishwarya\n",
            "Shalini\n",
            "Siddharth\n",
            "Nisha\n",
            "Aditya\n",
            "Rohan\n",
            "Divya\n",
            "Neha\n",
            "Aarav\n",
            "Dhanush\n",
            "Aarav\n",
            "Vikram\n",
            "Aryan\n",
            "Varun\n",
            "Arjun\n",
            "Jyoti\n",
            "Rekha\n",
            "Ananya\n",
            "Kiara\n",
            "Abhinav\n",
            "Prashant\n",
            "Zayn\n",
            "Naina\n",
            "Tanvi\n",
            "Uday\n",
            "Lakhsh\n",
            "Krish\n",
            "Karan\n",
            "Alisha\n",
            "Kavya\n",
            "Vidya\n",
            "Trisha\n",
            "Ishita\n",
            "Virat\n",
            "Aaradya\n",
            "Esha\n",
            "Ishaan\n",
            "Ayush\n",
            "Devika\n",
            "Sriram\n",
            "Pooja\n",
            "Nikita\n",
            "Anika\n",
            "Rohit\n",
            "Priya\n"
          ]
        }
      ]
    },
    {
      "cell_type": "code",
      "source": [
        "# Query 3: Retrieve the students studying in the branch 'CSE'\n",
        "cse_students = [student.get('Name') for student in all_students.values() if student.get('Branch') == 'CSE']\n",
        "for student in cse_students:\n",
        "    print(student)\n"
      ],
      "metadata": {
        "colab": {
          "base_uri": "https://localhost:8080/"
        },
        "id": "nWaO80u6c9bh",
        "outputId": "2aa5a7f4-39a4-4f98-d34a-7a1f56aa7666"
      },
      "execution_count": null,
      "outputs": [
        {
          "output_type": "stream",
          "name": "stdout",
          "text": [
            "Ananya\n",
            "Kiara\n",
            "Sriram\n"
          ]
        }
      ]
    },
    {
      "cell_type": "code",
      "source": [
        "# Query 4: Retrieve the students pursuing a Ph.D. degree\n",
        "phd_students = [student.get('Name') for student in all_students.values() if student.get('Degree') == 'B.Tech']\n",
        "for student in phd_students:\n",
        "    print(student)\n"
      ],
      "metadata": {
        "colab": {
          "base_uri": "https://localhost:8080/"
        },
        "id": "dWLBpfWmdJd9",
        "outputId": "9e6a37b7-d6e6-4235-b65b-1a3b11aed1c8"
      },
      "execution_count": null,
      "outputs": [
        {
          "output_type": "stream",
          "name": "stdout",
          "text": [
            "Siddharth\n",
            "Prashant\n",
            "Ayush\n"
          ]
        }
      ]
    },
    {
      "cell_type": "code",
      "source": [
        "# Query 5: Retrieve the students from the 'JNU' institute\n",
        "jnu_students = [student.get('Name') for student in all_students.values() if student.get('Institute') == 'JNU']\n",
        "for student in jnu_students:\n",
        "    print(student)\n"
      ],
      "metadata": {
        "colab": {
          "base_uri": "https://localhost:8080/"
        },
        "id": "DGFz5Hseecom",
        "outputId": "257d368a-4447-4b47-9cdb-161974329981"
      },
      "execution_count": null,
      "outputs": [
        {
          "output_type": "stream",
          "name": "stdout",
          "text": [
            "Nisha\n",
            "Aarav\n",
            "Aarav\n",
            "Karan\n"
          ]
        }
      ]
    },
    {
      "cell_type": "code",
      "source": [
        "# Query 6: Retrieve the students whose name starts with 'A'\n",
        "a_students = [student.get('Name') for student in all_students.values() if student.get('Name', '').startswith('A')]\n",
        "for student in a_students:\n",
        "    print(student)"
      ],
      "metadata": {
        "colab": {
          "base_uri": "https://localhost:8080/"
        },
        "id": "P3p0hU4Cegws",
        "outputId": "ecc3861d-b67f-4781-8d61-1dd9fd3288a5"
      },
      "execution_count": null,
      "outputs": [
        {
          "output_type": "stream",
          "name": "stdout",
          "text": [
            "Arya\n",
            "Aishwarya\n",
            "Aditya\n",
            "Aarav\n",
            "Aarav\n",
            "Aryan\n",
            "Arjun\n",
            "Ananya\n",
            "Abhinav\n",
            "Alisha\n",
            "Aaradya\n",
            "Ayush\n",
            "Anika\n"
          ]
        }
      ]
    },
    {
      "cell_type": "code",
      "source": [
        "# Query 6: Retrieve the students whose name starts with 'A'\n",
        "a_students = [student.get('Name') for student in all_students.values() if student.get('Name', '').startswith('A')]\n",
        "for student in a_students:\n",
        "    print(student)"
      ],
      "metadata": {
        "colab": {
          "base_uri": "https://localhost:8080/"
        },
        "id": "PpsJqKO8ejqz",
        "outputId": "ab62730a-110a-4ed5-c015-2f96283cc03a"
      },
      "execution_count": null,
      "outputs": [
        {
          "output_type": "stream",
          "name": "stdout",
          "text": [
            "Arya\n",
            "Aishwarya\n",
            "Aditya\n",
            "Aarav\n",
            "Aarav\n",
            "Aryan\n",
            "Arjun\n",
            "Ananya\n",
            "Abhinav\n",
            "Alisha\n",
            "Aaradya\n",
            "Ayush\n",
            "Anika\n"
          ]
        }
      ]
    },
    {
      "cell_type": "code",
      "source": [
        "# Query 8: Retrieve the students who have an empty field for 'Branch'\n",
        "empty_branch_students = [student.get('Name') for student in all_students.values() if student.get('Branch') == '']\n",
        "for student in empty_branch_students:\n",
        "    print(student)"
      ],
      "metadata": {
        "colab": {
          "base_uri": "https://localhost:8080/"
        },
        "id": "SbPaojeoeoBG",
        "outputId": "4e6c9b5a-bae1-40ef-b431-b622a34e5a1a"
      },
      "execution_count": null,
      "outputs": [
        {
          "output_type": "stream",
          "name": "stdout",
          "text": [
            "\n",
            "\n",
            "Ishita\n"
          ]
        }
      ]
    },
    {
      "cell_type": "markdown",
      "source": [
        " "
      ],
      "metadata": {
        "id": "5xTg9ihxe1VW"
      }
    },
    {
      "cell_type": "code",
      "source": [
        "\n",
        "\n",
        "# Get a reference to the database\n",
        "app = firebase_admin.get_app(name='my-app1')\n",
        "ref = db.reference('/Students', app=app)\n",
        "\n",
        "# Query 1: Retrieve the data of all students\n",
        "all_students = ref.get()\n",
        "for student_key, student_data in all_students.items():\n",
        "    print(\"Student ID:\", student_key)\n",
        "    for field, value in student_data.items():\n",
        "        print(field + \":\", value)\n",
        "    print()  # Add an empty line after each student's data\n",
        "\n",
        "# Query 2: Retrieve the names of all students\n",
        "student_names = [student_data.get('Name') for student_data in all_students.values() if student_data.get('Name')]\n",
        "for name in student_names:\n",
        "    print(name)\n",
        "\n",
        "# Query 3: Retrieve the students studying in the branch 'CSE'\n",
        "cse_students = [student_data.get('Name') for student_data in all_students.values() if student_data.get('Branch') == 'CSE']\n",
        "for student in cse_students:\n",
        "    print(student)\n",
        "\n",
        "# Query 4: Retrieve the students pursuing a Ph.D. degree\n",
        "phd_students = [student_data.get('Name') for student_data in all_students.values() if student_data.get('Degree') == 'PhD']\n",
        "for student in phd_students:\n",
        "    print(student)\n",
        "\n",
        "# Query 5: Retrieve the students from the 'JNU' institute\n",
        "jnu_students = [student_data.get('Name') for student_data in all_students.values() if student_data.get('Institute') == 'JNU']\n",
        "for student in jnu_students:\n",
        "    print(student)\n",
        "\n",
        "# Query 6: Retrieve the students whose name starts with 'A'\n",
        "a_students = [student_data.get('Name') for student_data in all_students.values() if student_data.get('Name', '').startswith('A')]\n",
        "for student in a_students:\n",
        "    print(student)\n",
        "\n",
        "# Query 7: Retrieve the count of students\n",
        "student_count = len(all_students)\n",
        "print(\"Total students:\", student_count)\n",
        "\n",
        "# Query 8: Retrieve the students who have an empty field for 'Branch'\n",
        "empty_branch_students = [student_data.get('Name') for student_data in all_students.values() if student_data.get('Branch') == '']\n",
        "for student in empty_branch_students:\n",
        "    print(student)\n"
      ],
      "metadata": {
        "id": "Di1gtKJWfYeS"
      },
      "execution_count": null,
      "outputs": []
    },
    {
      "cell_type": "code",
      "source": [
        "# Query 1: Retrieve the data of all students\n",
        "all_students = ref.get()\n",
        "for student_key, student_data in all_students.items():\n",
        "    print(\"Student ID:\", student_key)\n",
        "    for field, value in student_data.items():\n",
        "        print(field + \":\", value)\n",
        "    print() "
      ],
      "metadata": {
        "colab": {
          "base_uri": "https://localhost:8080/"
        },
        "id": "srzADTxje3mS",
        "outputId": "12046ef1-44ed-4f63-d8be-a97ed2d4523b"
      },
      "execution_count": null,
      "outputs": [
        {
          "output_type": "stream",
          "name": "stdout",
          "text": [
            "Student ID: -NX9A9NFwXgyYQUSgrLH\n",
            "s51: {'Branch': 'Biotechnology', 'Degree': 'M.Tech', 'Institute': 'IIT BHU', 'Name': 'Vaani'}\n",
            "\n",
            "Student ID: Students\n",
            "s51: {'Name': 'Riya'}\n",
            "\n",
            "Student ID: s1\n",
            "Branch: ECE\n",
            "Degree: B.Tech.\n",
            "Institute: SRM\n",
            "Name: Ujan\n",
            "\n",
            "Student ID: s10\n",
            "Branch: Staticstics\n",
            "Degree: M.Stat\n",
            "Institute: ISI\n",
            "Name: Arya\n",
            "\n",
            "Student ID: s11\n",
            "Branch: Corporate Law\n",
            "Degree: LLB\n",
            "Institute: MSU\n",
            "Name: Aishwarya\n",
            "\n",
            "Student ID: s12\n",
            "Branch: Drug Technology\n",
            "Degree: B.Pharm\n",
            "Institute: MU\n",
            "Name: Shalini\n",
            "\n",
            "Student ID: s13\n",
            "Branch: Civil Engineering\n",
            "Degree: B.Tech\n",
            "Institute: MIT\n",
            "Name: Siddharth\n",
            "\n",
            "Student ID: s14\n",
            "Branch: Finance\n",
            "Degree: B.Com\n",
            "Institute: JNU\n",
            "Name: Nisha\n",
            "\n",
            "Student ID: s15\n",
            "Branch: Astrophysics\n",
            "Degree: Phd\n",
            "Institute: ISRO\n",
            "Name: Aditya\n",
            "\n",
            "Student ID: s16\n",
            "Branch: Chemistry\n",
            "Degree: M.Sc.\n",
            "Institute: IISER\n",
            "Name: Rohan\n",
            "\n",
            "Student ID: s17\n",
            "Branch: Intellectual Property Law\n",
            "Degree: LLM\n",
            "Institute: NLSIU \n",
            "Name: Divya\n",
            "\n",
            "Student ID: s18\n",
            "Branch: Web Development\n",
            "Degree: MCA\n",
            "Institute: Amity University\n",
            "Name: Neha\n",
            "\n",
            "Student ID: s19\n",
            "Branch: Fine Arts\n",
            "Degree: B.A.\n",
            "Institute: JNU\n",
            "Name: Aarav\n",
            "\n",
            "Student ID: s2\n",
            "Branch: Marketing\n",
            "Degree: MBA\n",
            "Institution: IIMK\n",
            "Name: Dhanush\n",
            "\n",
            "Student ID: s20\n",
            "Branch: Fine Arts\n",
            "Degree: B.A.\n",
            "Institute: JNU\n",
            "Name: Aarav\n",
            "\n",
            "Student ID: s21\n",
            "Branch: Accounting\n",
            "Degree: MBA\n",
            "Institute: IIM\n",
            "Name: Vikram\n",
            "\n",
            "Student ID: s22\n",
            "Branch: Economics\n",
            "Degree: B.A.\n",
            "Institute: Delhi University\n",
            "Name: Aryan\n",
            "\n",
            "Student ID: s23\n",
            "Branch: \n",
            "Degree: \n",
            "Institute: \n",
            "Name: \n",
            "\n",
            "Student ID: s24\n",
            "Branch: Fashion Design\n",
            "Degree: B.Des\n",
            "Institute: NIFT\n",
            "Name: Varun\n",
            "\n",
            "Student ID: s25\n",
            "Branch: Interior Design\n",
            "Degree: B.Arch\n",
            "Institute: SPA, Delhi\n",
            "Name: Arjun\n",
            "\n",
            "Student ID: s26\n",
            "Branch: English \n",
            "Degree: B.A.\n",
            "Institute: Presidency College, Chennai\n",
            "Name: Jyoti\n",
            "\n",
            "Student ID: s27\n",
            "Branch: Mechanical Engineering\n",
            "Degree: B.Tech.\n",
            "Institute: NIT, Surathkal\n",
            "Name: Rekha\n",
            "\n",
            "Student ID: s28\n",
            "Branch: \n",
            "Degree: \n",
            "Institute: \n",
            "Name: \n",
            "\n",
            "Student ID: s29\n",
            "Branch: CSE\n",
            "Degree: M.Tech.\n",
            "Institute: IITKGP\n",
            "Name: Ananya\n",
            "\n",
            "Student ID: s3\n",
            "Branch: CSE\n",
            "Degree: B.Tech.\n",
            "Institution: VIT\n",
            "Name: Kiara\n",
            "\n",
            "Student ID: s30\n",
            "Branch: Finance\n",
            "Degree: BBA\n",
            "Institute: Xavier School of Management (XLRI), Jamshedpur\n",
            "Name: Abhinav\n",
            "\n",
            "Student ID: s31\n",
            "Branch: IT\n",
            "Degree: B.Tech\n",
            "Institute: VIT\n",
            "Name: Prashant\n",
            "\n",
            "Student ID: s32\n",
            "Branch: Pediatrics\n",
            "Degre: MBBS\n",
            "Institute: CMC, Vellore\n",
            "Name: Zayn\n",
            "\n",
            "Student ID: s33\n",
            "Branch: Denistry\n",
            "Degree: BDS\n",
            "Institute: Manipal College of Dental Sciences\n",
            "Name: Naina\n",
            "\n",
            "Student ID: s34\n",
            "Branch: Applied Arts\n",
            "Degree: BFA\n",
            "Institute: College of Art, Delhi\n",
            "Name: Tanvi\n",
            "\n",
            "Student ID: s35\n",
            "Branch: Business Administration\n",
            "Degree: MBA\n",
            "Institute: Xavier School of Management (XLRI)\n",
            "Name: Uday\n",
            "\n",
            "Student ID: s36\n",
            "Branch: Psychology\n",
            "Degree: B.A.\n",
            "Institute: Christ University, Bangalore\n",
            "Name: Lakhsh\n",
            "\n",
            "Student ID: s38\n",
            "Branch: Pharmacy\n",
            "Degree: B.Pharm\n",
            "Institute: Manipal College of Pharmaceutical Sciences\n",
            "Name: Krish\n",
            "\n",
            "Student ID: s39\n",
            "Branch: Political Science\n",
            "Degree: B.A.\n",
            "Institute: JNU\n",
            "Name: Karan\n",
            "\n",
            "Student ID: s4\n",
            "Branch: Data Science\n",
            "Degree: M.Sc.\n",
            "Institution: CMI\n",
            "Name: Alisha\n",
            "\n",
            "Student ID: s40\n",
            "Branch: Mathematics\n",
            "Degree: B.Sc.\n",
            "Institute: IISC, Bangalore\n",
            "Name: Kavya\n",
            "\n",
            "Student ID: s41\n",
            "Branch: Chemistry\n",
            "Degree: B.Sc.\n",
            "Institute: Delhi University\n",
            "Name: Vidya\n",
            "\n",
            "Student ID: s42\n",
            "Branch: Biotechnology\n",
            "Degree: B.Tech.\n",
            "Institute: IIT Madras\n",
            "Name: Trisha\n",
            "\n",
            "Student ID: s43\n",
            "Branch: \n",
            "Degree: \n",
            "Institute: \n",
            "Name: Ishita\n",
            "\n",
            "Student ID: s44\n",
            "Branch:  Environmental Science\n",
            "Degree: M.Sc.\n",
            "Institute: University of Delhi\n",
            "Name: Virat\n",
            "\n",
            "Student ID: s45\n",
            "Branch: Painting\n",
            "Degree: BFA\n",
            "Institute: MS University, Baroda\n",
            "Name: Aaradya\n",
            "\n",
            "Student ID: s46\n",
            "Branch: Graphic Design\n",
            "Degree: M.Des\n",
            "Institute: NIFT\n",
            "Name: Esha\n",
            "\n",
            "Student ID: s47\n",
            "Branch: Mathematics\n",
            "Degree: PhD\n",
            "Institute: ISI Kolkata\n",
            "Name: Ishaan\n",
            "\n",
            "Student ID: s48\n",
            "Branch: Aerospace Engineering\n",
            "Degree: B.Tech\n",
            "Institute: IIST\n",
            "Name: Ayush\n",
            "\n",
            "Student ID: s49\n",
            "Branch: Sociology\n",
            "Degree: B.A.\n",
            "Institute: TISS Mumbai\n",
            "Name: Devika\n",
            "\n",
            "Student ID: s5\n",
            "Branch: CSE\n",
            "Degree: M.Tech.\n",
            "Institution: IITKGP\n",
            "Name: Sriram\n",
            "\n",
            "Student ID: s50\n",
            "Branch: Nanotechnology\n",
            "Degree: PhD\n",
            "Institute: IIT Bombay\n",
            "Name: Pooja\n",
            "\n",
            "Student ID: s6\n",
            "Branch: Biotechnology\n",
            "Degree: Int M.Sc.\n",
            "Institution: IISC\n",
            "Name: Nikita\n",
            "\n",
            "Student ID: s7\n",
            "Branch: Mechanical Engineering\n",
            "Degree: M.E.\n",
            "Institution: BITS\n",
            "Name: Anika\n",
            "\n",
            "Student ID: s8\n",
            "Branch: Physics\n",
            "Degree: Ph.D\n",
            "Institution: TIFR\n",
            "Name: Rohit\n",
            "\n",
            "Student ID: s9\n",
            "Branch: Medicine\n",
            "Degree: MBBS\n",
            "Institute: AIIMS\n",
            "Name: Priya\n",
            "\n"
          ]
        }
      ]
    },
    {
      "cell_type": "markdown",
      "source": [
        "Single row queries "
      ],
      "metadata": {
        "id": "uipS7Xw7ftXk"
      }
    },
    {
      "cell_type": "code",
      "source": [
        "# Single-row query 1: Retrieve the data of a specific student with ID 's1'\n",
        "student_s1 = ref.child('s1').get()\n",
        "print(student_s1)"
      ],
      "metadata": {
        "colab": {
          "base_uri": "https://localhost:8080/"
        },
        "id": "MboHJ30vfvkj",
        "outputId": "9d0b6b6c-111b-407d-8cae-2b44f54c6574"
      },
      "execution_count": null,
      "outputs": [
        {
          "output_type": "stream",
          "name": "stdout",
          "text": [
            "{'Branch': 'ECE', 'Degree': 'B.Tech.', 'Institute': 'SRM', 'Name': 'Ujan'}\n"
          ]
        }
      ]
    },
    {
      "cell_type": "code",
      "source": [
        "# Single-row query 2: Retrieve the name of a specific student with ID 's2'\n",
        "student_s2 = ref.child('s2').get()\n",
        "name_s2 = student_s2.get('Name')\n",
        "print(name_s2)\n"
      ],
      "metadata": {
        "colab": {
          "base_uri": "https://localhost:8080/"
        },
        "id": "AE3V8Nraf1Y7",
        "outputId": "85d5e2c6-64e5-47db-add0-2de057260100"
      },
      "execution_count": null,
      "outputs": [
        {
          "output_type": "stream",
          "name": "stdout",
          "text": [
            "Dhanush\n"
          ]
        }
      ]
    },
    {
      "cell_type": "code",
      "source": [
        "# Single-row query 3: Retrieve the branch of a specific student with ID 's3'\n",
        "student_s3 = ref.child('s3').get()\n",
        "branch_s3 = student_s3.get('Branch')\n",
        "print(branch_s3)"
      ],
      "metadata": {
        "colab": {
          "base_uri": "https://localhost:8080/"
        },
        "id": "LXN3tVd6f5GH",
        "outputId": "ecb2e766-5fa6-417b-f9f0-2a60230989a5"
      },
      "execution_count": null,
      "outputs": [
        {
          "output_type": "stream",
          "name": "stdout",
          "text": [
            "CSE\n"
          ]
        }
      ]
    },
    {
      "cell_type": "code",
      "source": [
        "# Single-row query 4: Retrieve the degree of a specific student with ID 's4'\n",
        "student_s4 = ref.child('s4').get()\n",
        "degree_s4 = student_s4.get('Degree')\n",
        "print(degree_s4)\n"
      ],
      "metadata": {
        "colab": {
          "base_uri": "https://localhost:8080/"
        },
        "id": "IK3juBgof6af",
        "outputId": "b1239235-220f-4df1-ce2e-24d6b2c2e028"
      },
      "execution_count": null,
      "outputs": [
        {
          "output_type": "stream",
          "name": "stdout",
          "text": [
            "M.Sc.\n"
          ]
        }
      ]
    },
    {
      "cell_type": "code",
      "source": [
        "# Single-row query 5: Retrieve the count of students in the database\n",
        "all_students = ref.get()\n",
        "student_count = len(all_students)\n",
        "print(student_count)"
      ],
      "metadata": {
        "colab": {
          "base_uri": "https://localhost:8080/"
        },
        "id": "qgcYbLJLf9bJ",
        "outputId": "83d416c1-a78f-40c4-ce59-f5bdbae2133b"
      },
      "execution_count": null,
      "outputs": [
        {
          "output_type": "stream",
          "name": "stdout",
          "text": [
            "51\n"
          ]
        }
      ]
    },
    {
      "cell_type": "code",
      "source": [
        "# Single-row query 6: Retrieve the degree of a specific student with ID 's8'\n",
        "student_s8 = ref.child('s8').get()\n",
        "degree_s8 = student_s8.get('Degree')\n",
        "print(degree_s8)"
      ],
      "metadata": {
        "colab": {
          "base_uri": "https://localhost:8080/"
        },
        "id": "QGXSkQRigHMg",
        "outputId": "5faedb81-5210-4e85-fa4e-31bfd57735b1"
      },
      "execution_count": null,
      "outputs": [
        {
          "output_type": "stream",
          "name": "stdout",
          "text": [
            "Ph.D\n"
          ]
        }
      ]
    },
    {
      "cell_type": "code",
      "source": [
        "# Single-row query 7: Retrieve the institute of student 's33'\n",
        "institute_s33 = ref.child('s33/Institute').get()\n",
        "print(institute_s33)"
      ],
      "metadata": {
        "colab": {
          "base_uri": "https://localhost:8080/"
        },
        "id": "qL1WItzxgMId",
        "outputId": "534d0215-f271-44e5-f4e1-7710433564a0"
      },
      "execution_count": null,
      "outputs": [
        {
          "output_type": "stream",
          "name": "stdout",
          "text": [
            "Manipal College of Dental Sciences\n"
          ]
        }
      ]
    },
    {
      "cell_type": "code",
      "source": [
        "# Single-row query 8: Retrieve the branch of student 's49'\n",
        "branch_s49 = ref.child('s49/Branch').get()\n",
        "print(branch_s49)"
      ],
      "metadata": {
        "colab": {
          "base_uri": "https://localhost:8080/"
        },
        "id": "4VmRrLtVgeba",
        "outputId": "5aed86b0-64a9-4ae9-d241-2792e5c08a12"
      },
      "execution_count": null,
      "outputs": [
        {
          "output_type": "stream",
          "name": "stdout",
          "text": [
            "Sociology\n"
          ]
        }
      ]
    },
    {
      "cell_type": "code",
      "source": [
        "# Single-row query 9: Retrieve the degree of student 's21'\n",
        "degree_s21 = ref.child('s21/Degree').get()\n",
        "print(degree_s21)"
      ],
      "metadata": {
        "colab": {
          "base_uri": "https://localhost:8080/"
        },
        "id": "VYu91TdmgpjR",
        "outputId": "78245151-7771-423e-8971-4060a6926da8"
      },
      "execution_count": null,
      "outputs": [
        {
          "output_type": "stream",
          "name": "stdout",
          "text": [
            "MBA\n"
          ]
        }
      ]
    },
    {
      "cell_type": "code",
      "source": [
        "#Single-row query 10: Retrieve the data of student 's45'\n",
        "student_s45 = ref.child('s45').get()\n",
        "print(student_s45)"
      ],
      "metadata": {
        "colab": {
          "base_uri": "https://localhost:8080/"
        },
        "id": "OsjujAHTgwjk",
        "outputId": "687e4b2a-fc15-4b11-a941-8d2968eceb4b"
      },
      "execution_count": null,
      "outputs": [
        {
          "output_type": "stream",
          "name": "stdout",
          "text": [
            "{'Branch': 'Painting', 'Degree': 'BFA', 'Institute': 'MS University, Baroda', 'Name': 'Aaradya'}\n"
          ]
        }
      ]
    },
    {
      "cell_type": "markdown",
      "source": [
        "Multi-row Queries"
      ],
      "metadata": {
        "id": "Q_diit6_g-l1"
      }
    },
    {
      "cell_type": "code",
      "source": [
        "# Query 1: Retrieve the data of all students\n",
        "all_students = ref.get()\n",
        "for student_key, student in all_students.items():\n",
        "    print(f\"Student ID: {student_key}\")\n",
        "    print(f\"Name: {student.get('Name')}\")\n",
        "    print(f\"Branch: {student.get('Branch')}\")\n",
        "    print(f\"Degree: {student.get('Degree')}\")\n",
        "    print(f\"Institute: {student.get('Institute')}\")\n",
        "    print()  "
      ],
      "metadata": {
        "colab": {
          "base_uri": "https://localhost:8080/"
        },
        "id": "jT0A8-wohAW8",
        "outputId": "f9e3fe56-cf41-4bd3-8e3e-8ed4b0a43a29"
      },
      "execution_count": null,
      "outputs": [
        {
          "output_type": "stream",
          "name": "stdout",
          "text": [
            "Student ID: -NX9A9NFwXgyYQUSgrLH\n",
            "Name: None\n",
            "Branch: None\n",
            "Degree: None\n",
            "Institute: None\n",
            "\n",
            "Student ID: Students\n",
            "Name: None\n",
            "Branch: None\n",
            "Degree: None\n",
            "Institute: None\n",
            "\n",
            "Student ID: s1\n",
            "Name: Ujan\n",
            "Branch: ECE\n",
            "Degree: B.Tech.\n",
            "Institute: SRM\n",
            "\n",
            "Student ID: s10\n",
            "Name: Arya\n",
            "Branch: Staticstics\n",
            "Degree: M.Stat\n",
            "Institute: ISI\n",
            "\n",
            "Student ID: s11\n",
            "Name: Aishwarya\n",
            "Branch: Corporate Law\n",
            "Degree: LLB\n",
            "Institute: MSU\n",
            "\n",
            "Student ID: s12\n",
            "Name: Shalini\n",
            "Branch: Drug Technology\n",
            "Degree: B.Pharm\n",
            "Institute: MU\n",
            "\n",
            "Student ID: s13\n",
            "Name: Siddharth\n",
            "Branch: Civil Engineering\n",
            "Degree: B.Tech\n",
            "Institute: MIT\n",
            "\n",
            "Student ID: s14\n",
            "Name: Nisha\n",
            "Branch: Finance\n",
            "Degree: B.Com\n",
            "Institute: JNU\n",
            "\n",
            "Student ID: s15\n",
            "Name: Aditya\n",
            "Branch: Astrophysics\n",
            "Degree: Phd\n",
            "Institute: ISRO\n",
            "\n",
            "Student ID: s16\n",
            "Name: Rohan\n",
            "Branch: Chemistry\n",
            "Degree: M.Sc.\n",
            "Institute: IISER\n",
            "\n",
            "Student ID: s17\n",
            "Name: Divya\n",
            "Branch: Intellectual Property Law\n",
            "Degree: LLM\n",
            "Institute: NLSIU \n",
            "\n",
            "Student ID: s18\n",
            "Name: Neha\n",
            "Branch: Web Development\n",
            "Degree: MCA\n",
            "Institute: Amity University\n",
            "\n",
            "Student ID: s19\n",
            "Name: Aarav\n",
            "Branch: Fine Arts\n",
            "Degree: B.A.\n",
            "Institute: JNU\n",
            "\n",
            "Student ID: s2\n",
            "Name: Dhanush\n",
            "Branch: Marketing\n",
            "Degree: MBA\n",
            "Institute: None\n",
            "\n",
            "Student ID: s20\n",
            "Name: Aarav\n",
            "Branch: Fine Arts\n",
            "Degree: B.A.\n",
            "Institute: JNU\n",
            "\n",
            "Student ID: s21\n",
            "Name: Vikram\n",
            "Branch: Accounting\n",
            "Degree: MBA\n",
            "Institute: IIM\n",
            "\n",
            "Student ID: s22\n",
            "Name: Aryan\n",
            "Branch: Economics\n",
            "Degree: B.A.\n",
            "Institute: Delhi University\n",
            "\n",
            "Student ID: s23\n",
            "Name: \n",
            "Branch: \n",
            "Degree: \n",
            "Institute: \n",
            "\n",
            "Student ID: s24\n",
            "Name: Varun\n",
            "Branch: Fashion Design\n",
            "Degree: B.Des\n",
            "Institute: NIFT\n",
            "\n",
            "Student ID: s25\n",
            "Name: Arjun\n",
            "Branch: Interior Design\n",
            "Degree: B.Arch\n",
            "Institute: SPA, Delhi\n",
            "\n",
            "Student ID: s26\n",
            "Name: Jyoti\n",
            "Branch: English \n",
            "Degree: B.A.\n",
            "Institute: Presidency College, Chennai\n",
            "\n",
            "Student ID: s27\n",
            "Name: Rekha\n",
            "Branch: Mechanical Engineering\n",
            "Degree: B.Tech.\n",
            "Institute: NIT, Surathkal\n",
            "\n",
            "Student ID: s28\n",
            "Name: \n",
            "Branch: \n",
            "Degree: \n",
            "Institute: \n",
            "\n",
            "Student ID: s29\n",
            "Name: Ananya\n",
            "Branch: CSE\n",
            "Degree: M.Tech.\n",
            "Institute: IITKGP\n",
            "\n",
            "Student ID: s3\n",
            "Name: Kiara\n",
            "Branch: CSE\n",
            "Degree: B.Tech.\n",
            "Institute: None\n",
            "\n",
            "Student ID: s30\n",
            "Name: Abhinav\n",
            "Branch: Finance\n",
            "Degree: BBA\n",
            "Institute: Xavier School of Management (XLRI), Jamshedpur\n",
            "\n",
            "Student ID: s31\n",
            "Name: Prashant\n",
            "Branch: IT\n",
            "Degree: B.Tech\n",
            "Institute: VIT\n",
            "\n",
            "Student ID: s32\n",
            "Name: Zayn\n",
            "Branch: Pediatrics\n",
            "Degree: None\n",
            "Institute: CMC, Vellore\n",
            "\n",
            "Student ID: s33\n",
            "Name: Naina\n",
            "Branch: Denistry\n",
            "Degree: BDS\n",
            "Institute: Manipal College of Dental Sciences\n",
            "\n",
            "Student ID: s34\n",
            "Name: Tanvi\n",
            "Branch: Applied Arts\n",
            "Degree: BFA\n",
            "Institute: College of Art, Delhi\n",
            "\n",
            "Student ID: s35\n",
            "Name: Uday\n",
            "Branch: Business Administration\n",
            "Degree: MBA\n",
            "Institute: Xavier School of Management (XLRI)\n",
            "\n",
            "Student ID: s36\n",
            "Name: Lakhsh\n",
            "Branch: Psychology\n",
            "Degree: B.A.\n",
            "Institute: Christ University, Bangalore\n",
            "\n",
            "Student ID: s38\n",
            "Name: Krish\n",
            "Branch: Pharmacy\n",
            "Degree: B.Pharm\n",
            "Institute: Manipal College of Pharmaceutical Sciences\n",
            "\n",
            "Student ID: s39\n",
            "Name: Karan\n",
            "Branch: Political Science\n",
            "Degree: B.A.\n",
            "Institute: JNU\n",
            "\n",
            "Student ID: s4\n",
            "Name: Alisha\n",
            "Branch: Data Science\n",
            "Degree: M.Sc.\n",
            "Institute: None\n",
            "\n",
            "Student ID: s40\n",
            "Name: Kavya\n",
            "Branch: Mathematics\n",
            "Degree: B.Sc.\n",
            "Institute: IISC, Bangalore\n",
            "\n",
            "Student ID: s41\n",
            "Name: Vidya\n",
            "Branch: Chemistry\n",
            "Degree: B.Sc.\n",
            "Institute: Delhi University\n",
            "\n",
            "Student ID: s42\n",
            "Name: Trisha\n",
            "Branch: Biotechnology\n",
            "Degree: B.Tech.\n",
            "Institute: IIT Madras\n",
            "\n",
            "Student ID: s43\n",
            "Name: Ishita\n",
            "Branch: \n",
            "Degree: \n",
            "Institute: \n",
            "\n",
            "Student ID: s44\n",
            "Name: Virat\n",
            "Branch:  Environmental Science\n",
            "Degree: M.Sc.\n",
            "Institute: University of Delhi\n",
            "\n",
            "Student ID: s45\n",
            "Name: Aaradya\n",
            "Branch: Painting\n",
            "Degree: BFA\n",
            "Institute: MS University, Baroda\n",
            "\n",
            "Student ID: s46\n",
            "Name: Esha\n",
            "Branch: Graphic Design\n",
            "Degree: M.Des\n",
            "Institute: NIFT\n",
            "\n",
            "Student ID: s47\n",
            "Name: Ishaan\n",
            "Branch: Mathematics\n",
            "Degree: PhD\n",
            "Institute: ISI Kolkata\n",
            "\n",
            "Student ID: s48\n",
            "Name: Ayush\n",
            "Branch: Aerospace Engineering\n",
            "Degree: B.Tech\n",
            "Institute: IIST\n",
            "\n",
            "Student ID: s49\n",
            "Name: Devika\n",
            "Branch: Sociology\n",
            "Degree: B.A.\n",
            "Institute: TISS Mumbai\n",
            "\n",
            "Student ID: s5\n",
            "Name: Sriram\n",
            "Branch: CSE\n",
            "Degree: M.Tech.\n",
            "Institute: None\n",
            "\n",
            "Student ID: s50\n",
            "Name: Pooja\n",
            "Branch: Nanotechnology\n",
            "Degree: PhD\n",
            "Institute: IIT Bombay\n",
            "\n",
            "Student ID: s6\n",
            "Name: Nikita\n",
            "Branch: Biotechnology\n",
            "Degree: Int M.Sc.\n",
            "Institute: None\n",
            "\n",
            "Student ID: s7\n",
            "Name: Anika\n",
            "Branch: Mechanical Engineering\n",
            "Degree: M.E.\n",
            "Institute: None\n",
            "\n",
            "Student ID: s8\n",
            "Name: Rohit\n",
            "Branch: Physics\n",
            "Degree: Ph.D\n",
            "Institute: None\n",
            "\n",
            "Student ID: s9\n",
            "Name: Priya\n",
            "Branch: Medicine\n",
            "Degree: MBBS\n",
            "Institute: AIIMS\n",
            "\n"
          ]
        }
      ]
    },
    {
      "cell_type": "code",
      "source": [
        "# Query 2: Retrieve the names and institutes of students pursuing a B.Tech degree\n",
        "phd_students = [student for student in all_students.values() if student.get('Degree') == 'B.Tech']\n",
        "for student in phd_students:\n",
        "    print(f\"Name: {student.get('Name')}\")\n",
        "    print(f\"Institute: {student.get('Institute')}\")\n",
        "    print() "
      ],
      "metadata": {
        "colab": {
          "base_uri": "https://localhost:8080/"
        },
        "id": "IGSdsb1jhdmG",
        "outputId": "e2f526a6-a4ce-4ab9-a167-0ad9fd4df330"
      },
      "execution_count": null,
      "outputs": [
        {
          "output_type": "stream",
          "name": "stdout",
          "text": [
            "Name: Siddharth\n",
            "Institute: MIT\n",
            "\n",
            "Name: Prashant\n",
            "Institute: VIT\n",
            "\n",
            "Name: Ayush\n",
            "Institute: IIST\n",
            "\n"
          ]
        }
      ]
    },
    {
      "cell_type": "code",
      "source": [
        "# Query 3: Retrieve the names and branches of students from the 'JNU' institute\n",
        "jnu_students = [student for student in all_students.values() if student.get('Institute') == 'JNU']\n",
        "for student in jnu_students:\n",
        "    print(f\"Name: {student.get('Name')}\")\n",
        "    print(f\"Branch: {student.get('Branch')}\")\n",
        "    print()  # Add an empty line after each student's data"
      ],
      "metadata": {
        "colab": {
          "base_uri": "https://localhost:8080/"
        },
        "id": "HUvBNN28hkG1",
        "outputId": "4defe8c4-92b7-4b51-9a23-3302833e29b4"
      },
      "execution_count": null,
      "outputs": [
        {
          "output_type": "stream",
          "name": "stdout",
          "text": [
            "Name: Nisha\n",
            "Branch: Finance\n",
            "\n",
            "Name: Aarav\n",
            "Branch: Fine Arts\n",
            "\n",
            "Name: Aarav\n",
            "Branch: Fine Arts\n",
            "\n",
            "Name: Karan\n",
            "Branch: Political Science\n",
            "\n"
          ]
        }
      ]
    },
    {
      "cell_type": "code",
      "source": [
        "# Query 4: Retrieve the names and degrees of students studying in the 'CSE' branch\n",
        "cse_students = [student for student in all_students.values() if student.get('Branch') == 'CSE']\n",
        "for student in cse_students:\n",
        "    print(f\"Name: {student.get('Name')}\")\n",
        "    print(f\"Degree: {student.get('Degree')}\")\n",
        "    print() "
      ],
      "metadata": {
        "colab": {
          "base_uri": "https://localhost:8080/"
        },
        "id": "XovnTBn5hneu",
        "outputId": "3276acf1-27b3-4abe-b54c-ca34a4e51da1"
      },
      "execution_count": null,
      "outputs": [
        {
          "output_type": "stream",
          "name": "stdout",
          "text": [
            "Name: Ananya\n",
            "Degree: M.Tech.\n",
            "\n",
            "Name: Kiara\n",
            "Degree: B.Tech.\n",
            "\n",
            "Name: Sriram\n",
            "Degree: M.Tech.\n",
            "\n"
          ]
        }
      ]
    },
    {
      "cell_type": "code",
      "source": [
        "# Query 5: Retrieve the names and branches of students whose name starts with 'A'\n",
        "a_students = [student for student in all_students.values() if student.get('Name', '').startswith('A')]\n",
        "for student in a_students:\n",
        "    print(f\"Name: {student.get('Name')}\")\n",
        "    print(f\"Branch: {student.get('Branch')}\")\n",
        "    print() "
      ],
      "metadata": {
        "colab": {
          "base_uri": "https://localhost:8080/"
        },
        "id": "qfzPbys1hqfm",
        "outputId": "886a48e9-9ad1-4c68-b350-1f893d31e8ca"
      },
      "execution_count": null,
      "outputs": [
        {
          "output_type": "stream",
          "name": "stdout",
          "text": [
            "Name: Arya\n",
            "Branch: Staticstics\n",
            "\n",
            "Name: Aishwarya\n",
            "Branch: Corporate Law\n",
            "\n",
            "Name: Aditya\n",
            "Branch: Astrophysics\n",
            "\n",
            "Name: Aarav\n",
            "Branch: Fine Arts\n",
            "\n",
            "Name: Aarav\n",
            "Branch: Fine Arts\n",
            "\n",
            "Name: Aryan\n",
            "Branch: Economics\n",
            "\n",
            "Name: Arjun\n",
            "Branch: Interior Design\n",
            "\n",
            "Name: Ananya\n",
            "Branch: CSE\n",
            "\n",
            "Name: Abhinav\n",
            "Branch: Finance\n",
            "\n",
            "Name: Alisha\n",
            "Branch: Data Science\n",
            "\n",
            "Name: Aaradya\n",
            "Branch: Painting\n",
            "\n",
            "Name: Ayush\n",
            "Branch: Aerospace Engineering\n",
            "\n",
            "Name: Anika\n",
            "Branch: Mechanical Engineering\n",
            "\n"
          ]
        }
      ]
    },
    {
      "cell_type": "code",
      "source": [
        "# Query 6: Retrieve the names of students studying in the 'ECE' branch in separate lines\n",
        "ece_students = [student.get('Name') for student in all_students.values() if student.get('Branch') == 'ECE']\n",
        "for student in ece_students:\n",
        "    print(student)\n"
      ],
      "metadata": {
        "colab": {
          "base_uri": "https://localhost:8080/"
        },
        "id": "hVB3gAKMhtHR",
        "outputId": "325179d6-5505-45f6-83ed-9914e1bafaf6"
      },
      "execution_count": null,
      "outputs": [
        {
          "output_type": "stream",
          "name": "stdout",
          "text": [
            "Ujan\n"
          ]
        }
      ]
    },
    {
      "cell_type": "code",
      "source": [
        "# Query 7: Retrieve the names and degrees of students with a 'M.Tech.' degree\n",
        "btech_students = [student for student in all_students.values() if student.get('Degree') == 'M.Tech.']\n",
        "for student in btech_students:\n",
        "    print(f\"Name: {student.get('Name')}\")\n",
        "    print(f\"Degree: {student.get('Degree')}\")\n",
        "    print()"
      ],
      "metadata": {
        "colab": {
          "base_uri": "https://localhost:8080/"
        },
        "id": "3AN9Z3K5h04c",
        "outputId": "7c8222a0-5505-4bd9-f8f6-7396e3c1adb8"
      },
      "execution_count": null,
      "outputs": [
        {
          "output_type": "stream",
          "name": "stdout",
          "text": [
            "Name: Ananya\n",
            "Degree: M.Tech.\n",
            "\n",
            "Name: Sriram\n",
            "Degree: M.Tech.\n",
            "\n"
          ]
        }
      ]
    },
    {
      "cell_type": "code",
      "source": [
        "\n",
        "# Query 8: Retrieve the students who have a degree of 'B.Arch' and are studying in 'SPA, Delhi'\n",
        "barch_spa_students = [student for student in all_students.values() if student.get('Degree') == 'B.Arch' and student.get('Institute') == 'SPA, Delhi']\n",
        "for student in barch_spa_students:\n",
        "    print(student)\n",
        "    print()"
      ],
      "metadata": {
        "colab": {
          "base_uri": "https://localhost:8080/"
        },
        "id": "ful9ImXeh6J0",
        "outputId": "f347844f-f746-4cd5-b634-681240195f40"
      },
      "execution_count": null,
      "outputs": [
        {
          "output_type": "stream",
          "name": "stdout",
          "text": [
            "{'Branch': 'Interior Design', 'Degree': 'B.Arch', 'Institute': 'SPA, Delhi', 'Name': 'Arjun'}\n",
            "\n"
          ]
        }
      ]
    },
    {
      "cell_type": "code",
      "source": [
        "# Query 9: Retrieve the names of students pursuing an MBA degree in separate lines\n",
        "mba_students = [student.get('Name') for student in all_students.values() if student.get('Degree') == 'MBA']\n",
        "for student in mba_students:\n",
        "    print(student)\n"
      ],
      "metadata": {
        "colab": {
          "base_uri": "https://localhost:8080/"
        },
        "id": "ztAX2vIviOle",
        "outputId": "fc021c21-9cef-43d2-dca9-b91f908c2467"
      },
      "execution_count": null,
      "outputs": [
        {
          "output_type": "stream",
          "name": "stdout",
          "text": [
            "Dhanush\n",
            "Vikram\n",
            "Uday\n"
          ]
        }
      ]
    },
    {
      "cell_type": "code",
      "source": [
        "# Query 10: Retrieve the names of students studying in the 'Medicine' branch in separate lines\n",
        "medicine_students = [student.get('Name') for student in all_students.values() if student.get('Branch') == 'Medicine']\n",
        "for student in medicine_students:\n",
        "    print(student)"
      ],
      "metadata": {
        "colab": {
          "base_uri": "https://localhost:8080/"
        },
        "id": "zeeOjgjbiRK4",
        "outputId": "0f338720-26a0-491e-c279-ada14a333957"
      },
      "execution_count": null,
      "outputs": [
        {
          "output_type": "stream",
          "name": "stdout",
          "text": [
            "Priya\n"
          ]
        }
      ]
    },
    {
      "cell_type": "markdown",
      "source": [
        "constraints using operators"
      ],
      "metadata": {
        "id": "JvLi6HYfxGqS"
      }
    },
    {
      "cell_type": "code",
      "source": [
        "import firebase_admin\n",
        "from firebase_admin import credentials\n",
        "from firebase_admin import db\n",
        "\n",
        "# Initialize Firebase with your project credentials\n",
        "cred = credentials.Certificate('/content/pathtoserviceAccountKey.json')\n",
        "firebase_admin.initialize_app(cred, {\n",
        "    'databaseURL': 'https://fir-da-22mcs0012-default-rtdb.firebaseio.com/'\n",
        "}, name='my-app1')\n",
        "\n",
        "# Get a reference to the database\n",
        "app = firebase_admin.get_app(name='my-app1')\n",
        "ref = db.reference('/Students', app=app)\n",
        "\n",
        "# Query 1: Retrieve the students who have a degree that starts with 'B'\n",
        "b_degree_students = [student for student in ref.get().values() if student.get('Degree', '').startswith('B')]\n",
        "print(b_degree_students)\n",
        "\n",
        "# Query 2: Retrieve the students who are studying in either 'JNU' or 'IIT'\n",
        "jnu_iit_students = [student for student in ref.get().values() if student.get('Institute', '') in ['JNU', 'IIT']]\n",
        "print(jnu_iit_students)\n",
        "\n",
        "# Query 3: Retrieve the students who have a name containing the letter 'a' (case insensitive)\n",
        "a_name_students = [student for student in ref.get().values() if 'a' in student.get('Name', '').lower()]\n",
        "print(a_name_students)\n",
        "\n",
        "# Query 4: Retrieve the students who have a degree that ends with 'Tech'\n",
        "tech_degree_students = [student for student in ref.get().values() if student.get('Degree', '').endswith('Tech')]\n",
        "print(tech_degree_students)\n",
        "\n",
        "# Query 5: Retrieve the students who are studying in an institute with more than 10 characters in its name\n",
        "long_institute_students = [student for student in ref.get().values() if len(student.get('Institute', '')) > 10]\n",
        "print(long_institute_students)\n"
      ],
      "metadata": {
        "id": "uF_78v8GxWWU"
      },
      "execution_count": null,
      "outputs": []
    },
    {
      "cell_type": "code",
      "source": [
        "# Constraint 1: Retrieve the students whose degree is 'B.Tech.' and branch is 'CSE'\n",
        "constraint1 = [student for student in all_students.values() if student.get('Degree') == 'B.Tech.' and student.get('Branch') == 'CSE']\n",
        "for student in constraint1:\n",
        "    print(student)\n",
        "    print()"
      ],
      "metadata": {
        "colab": {
          "base_uri": "https://localhost:8080/"
        },
        "id": "QiwVCMsRxISS",
        "outputId": "7c99e45b-5142-4428-9038-7123b0126462"
      },
      "execution_count": 89,
      "outputs": [
        {
          "output_type": "stream",
          "name": "stdout",
          "text": [
            "{'Branch': 'CSE', 'Degree': 'B.Tech.', 'Institution': 'VIT', 'Name': 'Kiara'}\n",
            "\n"
          ]
        }
      ]
    },
    {
      "cell_type": "code",
      "source": [
        "# Constraint 2: Retrieve the students whose degree is 'MBA' or degree is 'M.Sc.'\n",
        "constraint2 = [student for student in all_students.values() if student.get('Degree') in ['MBA', 'M.Sc.']]\n",
        "for student in constraint2:\n",
        "    print(student)\n",
        "    print()"
      ],
      "metadata": {
        "colab": {
          "base_uri": "https://localhost:8080/"
        },
        "id": "QQFgsF1qxv-h",
        "outputId": "a0a3c277-b718-4739-8fac-167ac2bd4163"
      },
      "execution_count": 90,
      "outputs": [
        {
          "output_type": "stream",
          "name": "stdout",
          "text": [
            "{'Branch': 'Chemistry', 'Degree': 'M.Sc.', 'Institute': 'IISER', 'Name': 'Rohan'}\n",
            "\n",
            "{'Branch': 'Marketing', 'Degree': 'MBA', 'Institution': 'IIMK', 'Name': 'Dhanush'}\n",
            "\n",
            "{'Branch': 'Accounting', 'Degree': 'MBA', 'Institute': 'IIM', 'Name': 'Vikram'}\n",
            "\n",
            "{'Branch': 'Business Administration', 'Degree': 'MBA', 'Institute': 'Xavier School of Management (XLRI)', 'Name': 'Uday'}\n",
            "\n",
            "{'Branch': 'Data Science', 'Degree': 'M.Sc.', 'Institution': 'CMI', 'Name': 'Alisha'}\n",
            "\n",
            "{'Branch': ' Environmental Science', 'Degree': 'M.Sc.', 'Institute': 'University of Delhi', 'Name': 'Virat'}\n",
            "\n"
          ]
        }
      ]
    },
    {
      "cell_type": "code",
      "source": [
        "# Constraint 3: Retrieve the students whose institute is 'JNU' and branch is not empty\n",
        "constraint3 = [student for student in all_students.values() if student.get('Institute') == 'JNU' and student.get('Branch') != '']\n",
        "for student in constraint3:\n",
        "    print(student)\n",
        "    print()"
      ],
      "metadata": {
        "colab": {
          "base_uri": "https://localhost:8080/"
        },
        "id": "5NPjLGycxzr9",
        "outputId": "2f9fe2bd-5e4a-436b-b161-6199855fb616"
      },
      "execution_count": 91,
      "outputs": [
        {
          "output_type": "stream",
          "name": "stdout",
          "text": [
            "{'Branch': 'Finance', 'Degree': 'B.Com', 'Institute': 'JNU', 'Name': 'Nisha'}\n",
            "\n",
            "{'Branch': 'Fine Arts', 'Degree': 'B.A.', 'Institute': 'JNU', 'Name': 'Aarav'}\n",
            "\n",
            "{'Branch': 'Fine Arts', 'Degree': 'B.A.', 'Institute': 'JNU', 'Name': 'Aarav'}\n",
            "\n",
            "{'Branch': 'Political Science', 'Degree': 'B.A.', 'Institute': 'JNU', 'Name': 'Karan'}\n",
            "\n"
          ]
        }
      ]
    },
    {
      "cell_type": "code",
      "source": [
        "# Constraint 4: Retrieve the students whose name starts with 'A' and have a degree of 'B.A.'\n",
        "constraint4 = [student for student in all_students.values() if student.get('Name', '').startswith('A') and student.get('Degree') == 'B.A.']\n",
        "for student in constraint4:\n",
        "    print(student)\n",
        "    print()"
      ],
      "metadata": {
        "colab": {
          "base_uri": "https://localhost:8080/"
        },
        "id": "sM4huv4_x4Fz",
        "outputId": "ce3af5ac-8aa6-4275-d08a-c0795d5fa6d1"
      },
      "execution_count": 92,
      "outputs": [
        {
          "output_type": "stream",
          "name": "stdout",
          "text": [
            "{'Branch': 'Fine Arts', 'Degree': 'B.A.', 'Institute': 'JNU', 'Name': 'Aarav'}\n",
            "\n",
            "{'Branch': 'Fine Arts', 'Degree': 'B.A.', 'Institute': 'JNU', 'Name': 'Aarav'}\n",
            "\n",
            "{'Branch': 'Economics', 'Degree': 'B.A.', 'Institute': 'Delhi University', 'Name': 'Aryan'}\n",
            "\n"
          ]
        }
      ]
    },
    {
      "cell_type": "code",
      "source": [
        "#Constraint 5: Retrieve the students whose institute is 'VIT' or degree is 'M.Tech.'\n",
        "constraint5 = [student for student in all_students.values() if student.get('Institute') == 'VIT' or student.get('Degree') == 'M.Tech.']\n",
        "for student in constraint5:\n",
        "    print(student)\n",
        "    print()\n"
      ],
      "metadata": {
        "colab": {
          "base_uri": "https://localhost:8080/"
        },
        "id": "NbxlyHzhx7_R",
        "outputId": "b1c1b908-4809-49da-8810-93f26a01ba39"
      },
      "execution_count": 93,
      "outputs": [
        {
          "output_type": "stream",
          "name": "stdout",
          "text": [
            "{'Branch': 'CSE', 'Degree': 'M.Tech.', 'Institute': 'IITKGP', 'Name': 'Ananya'}\n",
            "\n",
            "{'Branch': 'IT', 'Degree': 'B.Tech', 'Institute': 'VIT', 'Name': 'Prashant'}\n",
            "\n",
            "{'Branch': 'CSE', 'Degree': 'M.Tech.', 'Institution': 'IITKGP', 'Name': 'Sriram'}\n",
            "\n"
          ]
        }
      ]
    },
    {
      "cell_type": "code",
      "source": [
        "# Constraint 6: Retrieve the students whose branch is not 'CSE' and have a degree of 'B.Tech.'\n",
        "constraint6 = [student for student in all_students.values() if student.get('Branch') != 'CSE' and student.get('Degree') == 'B.Tech.']\n",
        "for student in constraint6:\n",
        "    print(student)\n",
        "    print()\n"
      ],
      "metadata": {
        "colab": {
          "base_uri": "https://localhost:8080/"
        },
        "id": "BrM8je5Rx_gs",
        "outputId": "d0ea728f-b4a8-4306-953d-47ca910c319c"
      },
      "execution_count": 94,
      "outputs": [
        {
          "output_type": "stream",
          "name": "stdout",
          "text": [
            "{'Branch': 'ECE', 'Degree': 'B.Tech.', 'Institute': 'SRM', 'Name': 'Ujan'}\n",
            "\n",
            "{'Branch': 'Mechanical Engineering', 'Degree': 'B.Tech.', 'Institute': 'NIT, Surathkal', 'Name': 'Rekha'}\n",
            "\n",
            "{'Branch': 'Biotechnology', 'Degree': 'B.Tech.', 'Institute': 'IIT Madras', 'Name': 'Trisha'}\n",
            "\n"
          ]
        }
      ]
    },
    {
      "cell_type": "code",
      "source": [
        "# Constraint 7: Retrieve the students whose branch is 'ECE' or institute is 'IIT'\n",
        "constraint10 = [student for student in all_students.values() if student.get('Branch') == 'ECE' or student.get('Institute') == 'IIT']\n",
        "for student in constraint10:\n",
        "    print(student)\n",
        "    print()\n"
      ],
      "metadata": {
        "colab": {
          "base_uri": "https://localhost:8080/"
        },
        "id": "8d9TFLW2yJbU",
        "outputId": "cae2615d-ebe7-4f3b-f788-c362ea6251ff"
      },
      "execution_count": 102,
      "outputs": [
        {
          "output_type": "stream",
          "name": "stdout",
          "text": [
            "{'Branch': 'ECE', 'Degree': 'B.Tech.', 'Institute': 'SRM', 'Name': 'Ujan'}\n",
            "\n"
          ]
        }
      ]
    },
    {
      "cell_type": "code",
      "source": [
        "# Constraint 8: Retrieve the students whose degree is 'PhD' or branch is 'Chemistry'\n",
        "constraint8 = [student for student in all_students.values() if student.get('Degree') == 'PhD' or student.get('Branch') == 'Chemistry']\n",
        "for student in constraint8:\n",
        "    print(student)\n",
        "    print()\n"
      ],
      "metadata": {
        "colab": {
          "base_uri": "https://localhost:8080/"
        },
        "id": "LIS822pTyMSH",
        "outputId": "d97dab73-4cb4-4a50-be42-ed9e63c69838"
      },
      "execution_count": 107,
      "outputs": [
        {
          "output_type": "stream",
          "name": "stdout",
          "text": [
            "{'Branch': 'Chemistry', 'Degree': 'M.Sc.', 'Institute': 'IISER', 'Name': 'Rohan'}\n",
            "\n",
            "{'Branch': 'Chemistry', 'Degree': 'B.Sc.', 'Institute': 'Delhi University', 'Name': 'Vidya'}\n",
            "\n",
            "{'Branch': 'Mathematics', 'Degree': 'PhD', 'Institute': 'ISI Kolkata', 'Name': 'Ishaan'}\n",
            "\n",
            "{'Branch': 'Nanotechnology', 'Degree': 'PhD', 'Institute': 'IIT Bombay', 'Name': 'Pooja'}\n",
            "\n"
          ]
        }
      ]
    },
    {
      "cell_type": "code",
      "source": [
        "# Constraint 9: Retrieve the students whose degree is 'B.Tech.' and institute is not 'VIT'\n",
        "constraint13 = [student for student in all_students.values() if student.get('Degree') == 'B.Tech.' and student.get('Institute') != 'VIT']\n",
        "for student in constraint13:\n",
        "    print(student)\n",
        "    print()"
      ],
      "metadata": {
        "colab": {
          "base_uri": "https://localhost:8080/"
        },
        "id": "cqa2Hhw6zWkE",
        "outputId": "034f5660-ae4d-4e98-eb11-e6d4aed020d2"
      },
      "execution_count": 105,
      "outputs": [
        {
          "output_type": "stream",
          "name": "stdout",
          "text": [
            "{'Branch': 'ECE', 'Degree': 'B.Tech.', 'Institute': 'SRM', 'Name': 'Ujan'}\n",
            "\n",
            "{'Branch': 'Mechanical Engineering', 'Degree': 'B.Tech.', 'Institute': 'NIT, Surathkal', 'Name': 'Rekha'}\n",
            "\n",
            "{'Branch': 'CSE', 'Degree': 'B.Tech.', 'Institution': 'VIT', 'Name': 'Kiara'}\n",
            "\n",
            "{'Branch': 'Biotechnology', 'Degree': 'B.Tech.', 'Institute': 'IIT Madras', 'Name': 'Trisha'}\n",
            "\n"
          ]
        }
      ]
    },
    {
      "cell_type": "code",
      "source": [
        "# Constraint 10: Retrieve the students whose branch is 'CSE' and degree is not 'B.Tech.'\n",
        "constraint14 = [student for student in all_students.values() if student.get('Branch') == 'CSE' and student.get('Degree') != 'B.Tech.']\n",
        "for student in constraint14:\n",
        "    print(student)\n",
        "    print()"
      ],
      "metadata": {
        "colab": {
          "base_uri": "https://localhost:8080/"
        },
        "id": "nPTdlHHBzYFJ",
        "outputId": "147506d2-43b0-4c03-f074-fa8e465338ce"
      },
      "execution_count": 106,
      "outputs": [
        {
          "output_type": "stream",
          "name": "stdout",
          "text": [
            "{'Branch': 'CSE', 'Degree': 'M.Tech.', 'Institute': 'IITKGP', 'Name': 'Ananya'}\n",
            "\n",
            "{'Branch': 'CSE', 'Degree': 'M.Tech.', 'Institution': 'IITKGP', 'Name': 'Sriram'}\n",
            "\n"
          ]
        }
      ]
    },
    {
      "cell_type": "code",
      "source": [
        "# Constraint 11: Retrieve the students whose degree is not empty and branch is not empty\n",
        "constraint12 = [student for student in all_students.values() if student.get('Degree') != '' and student.get('Branch') != '']\n",
        "for student in constraint12:\n",
        "    print(student)\n",
        "    print()"
      ],
      "metadata": {
        "colab": {
          "base_uri": "https://localhost:8080/"
        },
        "id": "l35QnEyPyPd1",
        "outputId": "4c979e73-b6f4-4ec7-88ed-be40826fe8cb"
      },
      "execution_count": 104,
      "outputs": [
        {
          "output_type": "stream",
          "name": "stdout",
          "text": [
            "{'s51': {'Branch': 'Biotechnology', 'Degree': 'M.Tech', 'Institute': 'IIT BHU', 'Name': 'Vaani'}}\n",
            "\n",
            "{'s51': {'Name': 'Riya'}}\n",
            "\n",
            "{'Branch': 'ECE', 'Degree': 'B.Tech.', 'Institute': 'SRM', 'Name': 'Ujan'}\n",
            "\n",
            "{'Branch': 'Staticstics', 'Degree': 'M.Stat', 'Institute': 'ISI', 'Name': 'Arya'}\n",
            "\n",
            "{'Branch': 'Corporate Law', 'Degree': 'LLB', 'Institute': 'MSU', 'Name': 'Aishwarya'}\n",
            "\n",
            "{'Branch': 'Drug Technology', 'Degree': 'B.Pharm', 'Institute': 'MU', 'Name': 'Shalini'}\n",
            "\n",
            "{'Branch': 'Civil Engineering', 'Degree': 'B.Tech', 'Institute': 'MIT', 'Name': 'Siddharth'}\n",
            "\n",
            "{'Branch': 'Finance', 'Degree': 'B.Com', 'Institute': 'JNU', 'Name': 'Nisha'}\n",
            "\n",
            "{'Branch': 'Astrophysics', 'Degree': 'Phd', 'Institute': 'ISRO', 'Name': 'Aditya'}\n",
            "\n",
            "{'Branch': 'Chemistry', 'Degree': 'M.Sc.', 'Institute': 'IISER', 'Name': 'Rohan'}\n",
            "\n",
            "{'Branch': 'Intellectual Property Law', 'Degree': 'LLM', 'Institute': 'NLSIU ', 'Name': 'Divya'}\n",
            "\n",
            "{'Branch': 'Web Development', 'Degree': 'MCA', 'Institute': 'Amity University', 'Name': 'Neha'}\n",
            "\n",
            "{'Branch': 'Fine Arts', 'Degree': 'B.A.', 'Institute': 'JNU', 'Name': 'Aarav'}\n",
            "\n",
            "{'Branch': 'Marketing', 'Degree': 'MBA', 'Institution': 'IIMK', 'Name': 'Dhanush'}\n",
            "\n",
            "{'Branch': 'Fine Arts', 'Degree': 'B.A.', 'Institute': 'JNU', 'Name': 'Aarav'}\n",
            "\n",
            "{'Branch': 'Accounting', 'Degree': 'MBA', 'Institute': 'IIM', 'Name': 'Vikram'}\n",
            "\n",
            "{'Branch': 'Economics', 'Degree': 'B.A.', 'Institute': 'Delhi University', 'Name': 'Aryan'}\n",
            "\n",
            "{'Branch': 'Fashion Design', 'Degree': 'B.Des', 'Institute': 'NIFT', 'Name': 'Varun'}\n",
            "\n",
            "{'Branch': 'Interior Design', 'Degree': 'B.Arch', 'Institute': 'SPA, Delhi', 'Name': 'Arjun'}\n",
            "\n",
            "{'Branch': 'English ', 'Degree': 'B.A.', 'Institute': 'Presidency College, Chennai', 'Name': 'Jyoti'}\n",
            "\n",
            "{'Branch': 'Mechanical Engineering', 'Degree': 'B.Tech.', 'Institute': 'NIT, Surathkal', 'Name': 'Rekha'}\n",
            "\n",
            "{'Branch': 'CSE', 'Degree': 'M.Tech.', 'Institute': 'IITKGP', 'Name': 'Ananya'}\n",
            "\n",
            "{'Branch': 'CSE', 'Degree': 'B.Tech.', 'Institution': 'VIT', 'Name': 'Kiara'}\n",
            "\n",
            "{'Branch': 'Finance', 'Degree': 'BBA', 'Institute': 'Xavier School of Management (XLRI), Jamshedpur', 'Name': 'Abhinav'}\n",
            "\n",
            "{'Branch': 'IT', 'Degree': 'B.Tech', 'Institute': 'VIT', 'Name': 'Prashant'}\n",
            "\n",
            "{'Branch': 'Pediatrics', 'Degre': 'MBBS', 'Institute': 'CMC, Vellore', 'Name': 'Zayn'}\n",
            "\n",
            "{'Branch': 'Denistry', 'Degree': 'BDS', 'Institute': 'Manipal College of Dental Sciences', 'Name': 'Naina'}\n",
            "\n",
            "{'Branch': 'Applied Arts', 'Degree': 'BFA', 'Institute': 'College of Art, Delhi', 'Name': 'Tanvi'}\n",
            "\n",
            "{'Branch': 'Business Administration', 'Degree': 'MBA', 'Institute': 'Xavier School of Management (XLRI)', 'Name': 'Uday'}\n",
            "\n",
            "{'Branch': 'Psychology', 'Degree': 'B.A.', 'Institute': 'Christ University, Bangalore', 'Name': 'Lakhsh'}\n",
            "\n",
            "{'Branch': 'Pharmacy', 'Degree': 'B.Pharm', 'Institute': 'Manipal College of Pharmaceutical Sciences', 'Name': 'Krish'}\n",
            "\n",
            "{'Branch': 'Political Science', 'Degree': 'B.A.', 'Institute': 'JNU', 'Name': 'Karan'}\n",
            "\n",
            "{'Branch': 'Data Science', 'Degree': 'M.Sc.', 'Institution': 'CMI', 'Name': 'Alisha'}\n",
            "\n",
            "{'Branch': 'Mathematics', 'Degree': 'B.Sc.', 'Institute': 'IISC, Bangalore', 'Name': 'Kavya'}\n",
            "\n",
            "{'Branch': 'Chemistry', 'Degree': 'B.Sc.', 'Institute': 'Delhi University', 'Name': 'Vidya'}\n",
            "\n",
            "{'Branch': 'Biotechnology', 'Degree': 'B.Tech.', 'Institute': 'IIT Madras', 'Name': 'Trisha'}\n",
            "\n",
            "{'Branch': ' Environmental Science', 'Degree': 'M.Sc.', 'Institute': 'University of Delhi', 'Name': 'Virat'}\n",
            "\n",
            "{'Branch': 'Painting', 'Degree': 'BFA', 'Institute': 'MS University, Baroda', 'Name': 'Aaradya'}\n",
            "\n",
            "{'Branch': 'Graphic Design', 'Degree': 'M.Des', 'Institute': 'NIFT', 'Name': 'Esha'}\n",
            "\n",
            "{'Branch': 'Mathematics', 'Degree': 'PhD', 'Institute': 'ISI Kolkata', 'Name': 'Ishaan'}\n",
            "\n",
            "{'Branch': 'Aerospace Engineering', 'Degree': 'B.Tech', 'Institute': 'IIST', 'Name': 'Ayush'}\n",
            "\n",
            "{'Branch': 'Sociology', 'Degree': 'B.A.', 'Institute': 'TISS Mumbai', 'Name': 'Devika'}\n",
            "\n",
            "{'Branch': 'CSE', 'Degree': 'M.Tech.', 'Institution': 'IITKGP', 'Name': 'Sriram'}\n",
            "\n",
            "{'Branch': 'Nanotechnology', 'Degree': 'PhD', 'Institute': 'IIT Bombay', 'Name': 'Pooja'}\n",
            "\n",
            "{'Branch': 'Biotechnology', 'Degree': 'Int M.Sc.', 'Institution': 'IISC', 'Name': 'Nikita'}\n",
            "\n",
            "{'Branch': 'Mechanical Engineering', 'Degree': 'M.E.', 'Institution': 'BITS', 'Name': 'Anika'}\n",
            "\n",
            "{'Branch': 'Physics', 'Degree': 'Ph.D', 'Institution': 'TIFR', 'Name': 'Rohit'}\n",
            "\n",
            "{'Branch': 'Medicine', 'Degree': 'MBBS', 'Institute': 'AIIMS', 'Name': 'Priya'}\n",
            "\n"
          ]
        }
      ]
    }
  ]
}